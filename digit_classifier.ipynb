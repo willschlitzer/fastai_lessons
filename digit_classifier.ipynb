{
  "nbformat": 4,
  "nbformat_minor": 0,
  "metadata": {
    "colab": {
      "name": "digit_classifier.ipynb",
      "provenance": [],
      "authorship_tag": "ABX9TyMLvHGcPBxv20R9wAbOc9WN",
      "include_colab_link": true
    },
    "kernelspec": {
      "name": "python3",
      "display_name": "Python 3"
    },
    "language_info": {
      "name": "python"
    }
  },
  "cells": [
    {
      "cell_type": "markdown",
      "metadata": {
        "id": "view-in-github",
        "colab_type": "text"
      },
      "source": [
        "<a href=\"https://colab.research.google.com/github/willschlitzer/fastai_lessons/blob/main/digit_classifier.ipynb\" target=\"_parent\"><img src=\"https://colab.research.google.com/assets/colab-badge.svg\" alt=\"Open In Colab\"/></a>"
      ]
    },
    {
      "cell_type": "code",
      "execution_count": 1,
      "metadata": {
        "id": "OpSmrAL1I95m",
        "colab": {
          "base_uri": "https://localhost:8080/"
        },
        "outputId": "c229e9f3-07f9-42b4-c261-9e15a8e1bacf"
      },
      "outputs": [
        {
          "output_type": "stream",
          "name": "stdout",
          "text": [
            "Looking in indexes: https://pypi.org/simple, https://us-python.pkg.dev/colab-wheels/public/simple/\n",
            "Requirement already satisfied: fastai in /usr/local/lib/python3.7/dist-packages (2.7.9)\n",
            "Requirement already satisfied: requests in /usr/local/lib/python3.7/dist-packages (from fastai) (2.23.0)\n",
            "Requirement already satisfied: fastprogress>=0.2.4 in /usr/local/lib/python3.7/dist-packages (from fastai) (1.0.3)\n",
            "Requirement already satisfied: packaging in /usr/local/lib/python3.7/dist-packages (from fastai) (21.3)\n",
            "Requirement already satisfied: pandas in /usr/local/lib/python3.7/dist-packages (from fastai) (1.3.5)\n",
            "Requirement already satisfied: torchvision>=0.8.2 in /usr/local/lib/python3.7/dist-packages (from fastai) (0.13.1+cu113)\n",
            "Requirement already satisfied: pip in /usr/local/lib/python3.7/dist-packages (from fastai) (21.1.3)\n",
            "Requirement already satisfied: fastdownload<2,>=0.0.5 in /usr/local/lib/python3.7/dist-packages (from fastai) (0.0.7)\n",
            "Requirement already satisfied: spacy<4 in /usr/local/lib/python3.7/dist-packages (from fastai) (3.4.1)\n",
            "Requirement already satisfied: scikit-learn in /usr/local/lib/python3.7/dist-packages (from fastai) (1.0.2)\n",
            "Requirement already satisfied: matplotlib in /usr/local/lib/python3.7/dist-packages (from fastai) (3.2.2)\n",
            "Requirement already satisfied: torch<1.14,>=1.7 in /usr/local/lib/python3.7/dist-packages (from fastai) (1.12.1+cu113)\n",
            "Requirement already satisfied: fastcore<1.6,>=1.4.5 in /usr/local/lib/python3.7/dist-packages (from fastai) (1.5.21)\n",
            "Requirement already satisfied: pillow>6.0.0 in /usr/local/lib/python3.7/dist-packages (from fastai) (7.1.2)\n",
            "Requirement already satisfied: pyyaml in /usr/local/lib/python3.7/dist-packages (from fastai) (6.0)\n",
            "Requirement already satisfied: scipy in /usr/local/lib/python3.7/dist-packages (from fastai) (1.7.3)\n",
            "Requirement already satisfied: thinc<8.2.0,>=8.1.0 in /usr/local/lib/python3.7/dist-packages (from spacy<4->fastai) (8.1.0)\n",
            "Requirement already satisfied: spacy-loggers<2.0.0,>=1.0.0 in /usr/local/lib/python3.7/dist-packages (from spacy<4->fastai) (1.0.3)\n",
            "Requirement already satisfied: srsly<3.0.0,>=2.4.3 in /usr/local/lib/python3.7/dist-packages (from spacy<4->fastai) (2.4.4)\n",
            "Requirement already satisfied: spacy-legacy<3.1.0,>=3.0.9 in /usr/local/lib/python3.7/dist-packages (from spacy<4->fastai) (3.0.10)\n",
            "Requirement already satisfied: numpy>=1.15.0 in /usr/local/lib/python3.7/dist-packages (from spacy<4->fastai) (1.21.6)\n",
            "Requirement already satisfied: jinja2 in /usr/local/lib/python3.7/dist-packages (from spacy<4->fastai) (2.11.3)\n",
            "Requirement already satisfied: typer<0.5.0,>=0.3.0 in /usr/local/lib/python3.7/dist-packages (from spacy<4->fastai) (0.4.2)\n",
            "Requirement already satisfied: langcodes<4.0.0,>=3.2.0 in /usr/local/lib/python3.7/dist-packages (from spacy<4->fastai) (3.3.0)\n",
            "Requirement already satisfied: wasabi<1.1.0,>=0.9.1 in /usr/local/lib/python3.7/dist-packages (from spacy<4->fastai) (0.10.1)\n",
            "Requirement already satisfied: pathy>=0.3.5 in /usr/local/lib/python3.7/dist-packages (from spacy<4->fastai) (0.6.2)\n",
            "Requirement already satisfied: preshed<3.1.0,>=3.0.2 in /usr/local/lib/python3.7/dist-packages (from spacy<4->fastai) (3.0.7)\n",
            "Requirement already satisfied: tqdm<5.0.0,>=4.38.0 in /usr/local/lib/python3.7/dist-packages (from spacy<4->fastai) (4.64.0)\n",
            "Requirement already satisfied: setuptools in /usr/local/lib/python3.7/dist-packages (from spacy<4->fastai) (57.4.0)\n",
            "Requirement already satisfied: cymem<2.1.0,>=2.0.2 in /usr/local/lib/python3.7/dist-packages (from spacy<4->fastai) (2.0.6)\n",
            "Requirement already satisfied: murmurhash<1.1.0,>=0.28.0 in /usr/local/lib/python3.7/dist-packages (from spacy<4->fastai) (1.0.8)\n",
            "Requirement already satisfied: typing-extensions<4.2.0,>=3.7.4 in /usr/local/lib/python3.7/dist-packages (from spacy<4->fastai) (4.1.1)\n",
            "Requirement already satisfied: catalogue<2.1.0,>=2.0.6 in /usr/local/lib/python3.7/dist-packages (from spacy<4->fastai) (2.0.8)\n",
            "Requirement already satisfied: pydantic!=1.8,!=1.8.1,<1.10.0,>=1.7.4 in /usr/local/lib/python3.7/dist-packages (from spacy<4->fastai) (1.9.2)\n",
            "Requirement already satisfied: zipp>=0.5 in /usr/local/lib/python3.7/dist-packages (from catalogue<2.1.0,>=2.0.6->spacy<4->fastai) (3.8.1)\n",
            "Requirement already satisfied: pyparsing!=3.0.5,>=2.0.2 in /usr/local/lib/python3.7/dist-packages (from packaging->fastai) (3.0.9)\n",
            "Requirement already satisfied: smart-open<6.0.0,>=5.2.1 in /usr/local/lib/python3.7/dist-packages (from pathy>=0.3.5->spacy<4->fastai) (5.2.1)\n",
            "Requirement already satisfied: idna<3,>=2.5 in /usr/local/lib/python3.7/dist-packages (from requests->fastai) (2.10)\n",
            "Requirement already satisfied: chardet<4,>=3.0.2 in /usr/local/lib/python3.7/dist-packages (from requests->fastai) (3.0.4)\n",
            "Requirement already satisfied: urllib3!=1.25.0,!=1.25.1,<1.26,>=1.21.1 in /usr/local/lib/python3.7/dist-packages (from requests->fastai) (1.24.3)\n",
            "Requirement already satisfied: certifi>=2017.4.17 in /usr/local/lib/python3.7/dist-packages (from requests->fastai) (2022.6.15)\n",
            "Requirement already satisfied: blis<0.8.0,>=0.7.8 in /usr/local/lib/python3.7/dist-packages (from thinc<8.2.0,>=8.1.0->spacy<4->fastai) (0.7.8)\n",
            "Requirement already satisfied: click<9.0.0,>=7.1.1 in /usr/local/lib/python3.7/dist-packages (from typer<0.5.0,>=0.3.0->spacy<4->fastai) (7.1.2)\n",
            "Requirement already satisfied: MarkupSafe>=0.23 in /usr/local/lib/python3.7/dist-packages (from jinja2->spacy<4->fastai) (2.0.1)\n",
            "Requirement already satisfied: python-dateutil>=2.1 in /usr/local/lib/python3.7/dist-packages (from matplotlib->fastai) (2.8.2)\n",
            "Requirement already satisfied: kiwisolver>=1.0.1 in /usr/local/lib/python3.7/dist-packages (from matplotlib->fastai) (1.4.4)\n",
            "Requirement already satisfied: cycler>=0.10 in /usr/local/lib/python3.7/dist-packages (from matplotlib->fastai) (0.11.0)\n",
            "Requirement already satisfied: six>=1.5 in /usr/local/lib/python3.7/dist-packages (from python-dateutil>=2.1->matplotlib->fastai) (1.15.0)\n",
            "Requirement already satisfied: pytz>=2017.3 in /usr/local/lib/python3.7/dist-packages (from pandas->fastai) (2022.2.1)\n",
            "Requirement already satisfied: joblib>=0.11 in /usr/local/lib/python3.7/dist-packages (from scikit-learn->fastai) (1.1.0)\n",
            "Requirement already satisfied: threadpoolctl>=2.0.0 in /usr/local/lib/python3.7/dist-packages (from scikit-learn->fastai) (3.1.0)\n",
            "Looking in indexes: https://pypi.org/simple, https://us-python.pkg.dev/colab-wheels/public/simple/\n",
            "Collecting fastbook\n",
            "  Downloading fastbook-0.0.28-py3-none-any.whl (719 kB)\n",
            "\u001b[K     |████████████████████████████████| 719 kB 7.3 MB/s \n",
            "\u001b[?25hRequirement already satisfied: packaging in /usr/local/lib/python3.7/dist-packages (from fastbook) (21.3)\n",
            "Requirement already satisfied: graphviz in /usr/local/lib/python3.7/dist-packages (from fastbook) (0.10.1)\n",
            "Collecting datasets\n",
            "  Downloading datasets-2.4.0-py3-none-any.whl (365 kB)\n",
            "\u001b[K     |████████████████████████████████| 365 kB 26.5 MB/s \n",
            "\u001b[?25hCollecting sentencepiece\n",
            "  Downloading sentencepiece-0.1.97-cp37-cp37m-manylinux_2_17_x86_64.manylinux2014_x86_64.whl (1.3 MB)\n",
            "\u001b[K     |████████████████████████████████| 1.3 MB 13.7 MB/s \n",
            "\u001b[?25hRequirement already satisfied: requests in /usr/local/lib/python3.7/dist-packages (from fastbook) (2.23.0)\n",
            "Requirement already satisfied: fastai>=2.6 in /usr/local/lib/python3.7/dist-packages (from fastbook) (2.7.9)\n",
            "Requirement already satisfied: pandas in /usr/local/lib/python3.7/dist-packages (from fastbook) (1.3.5)\n",
            "Requirement already satisfied: pip in /usr/local/lib/python3.7/dist-packages (from fastbook) (21.1.3)\n",
            "Collecting transformers\n",
            "  Downloading transformers-4.21.2-py3-none-any.whl (4.7 MB)\n",
            "\u001b[K     |████████████████████████████████| 4.7 MB 22.7 MB/s \n",
            "\u001b[?25hRequirement already satisfied: torchvision>=0.8.2 in /usr/local/lib/python3.7/dist-packages (from fastai>=2.6->fastbook) (0.13.1+cu113)\n",
            "Requirement already satisfied: matplotlib in /usr/local/lib/python3.7/dist-packages (from fastai>=2.6->fastbook) (3.2.2)\n",
            "Requirement already satisfied: scipy in /usr/local/lib/python3.7/dist-packages (from fastai>=2.6->fastbook) (1.7.3)\n",
            "Requirement already satisfied: fastprogress>=0.2.4 in /usr/local/lib/python3.7/dist-packages (from fastai>=2.6->fastbook) (1.0.3)\n",
            "Requirement already satisfied: pyyaml in /usr/local/lib/python3.7/dist-packages (from fastai>=2.6->fastbook) (6.0)\n",
            "Requirement already satisfied: scikit-learn in /usr/local/lib/python3.7/dist-packages (from fastai>=2.6->fastbook) (1.0.2)\n",
            "Requirement already satisfied: pillow>6.0.0 in /usr/local/lib/python3.7/dist-packages (from fastai>=2.6->fastbook) (7.1.2)\n",
            "Requirement already satisfied: fastdownload<2,>=0.0.5 in /usr/local/lib/python3.7/dist-packages (from fastai>=2.6->fastbook) (0.0.7)\n",
            "Requirement already satisfied: torch<1.14,>=1.7 in /usr/local/lib/python3.7/dist-packages (from fastai>=2.6->fastbook) (1.12.1+cu113)\n",
            "Requirement already satisfied: spacy<4 in /usr/local/lib/python3.7/dist-packages (from fastai>=2.6->fastbook) (3.4.1)\n",
            "Requirement already satisfied: fastcore<1.6,>=1.4.5 in /usr/local/lib/python3.7/dist-packages (from fastai>=2.6->fastbook) (1.5.21)\n",
            "Requirement already satisfied: typing-extensions<4.2.0,>=3.7.4 in /usr/local/lib/python3.7/dist-packages (from spacy<4->fastai>=2.6->fastbook) (4.1.1)\n",
            "Requirement already satisfied: tqdm<5.0.0,>=4.38.0 in /usr/local/lib/python3.7/dist-packages (from spacy<4->fastai>=2.6->fastbook) (4.64.0)\n",
            "Requirement already satisfied: wasabi<1.1.0,>=0.9.1 in /usr/local/lib/python3.7/dist-packages (from spacy<4->fastai>=2.6->fastbook) (0.10.1)\n",
            "Requirement already satisfied: spacy-legacy<3.1.0,>=3.0.9 in /usr/local/lib/python3.7/dist-packages (from spacy<4->fastai>=2.6->fastbook) (3.0.10)\n",
            "Requirement already satisfied: typer<0.5.0,>=0.3.0 in /usr/local/lib/python3.7/dist-packages (from spacy<4->fastai>=2.6->fastbook) (0.4.2)\n",
            "Requirement already satisfied: pathy>=0.3.5 in /usr/local/lib/python3.7/dist-packages (from spacy<4->fastai>=2.6->fastbook) (0.6.2)\n",
            "Requirement already satisfied: catalogue<2.1.0,>=2.0.6 in /usr/local/lib/python3.7/dist-packages (from spacy<4->fastai>=2.6->fastbook) (2.0.8)\n",
            "Requirement already satisfied: cymem<2.1.0,>=2.0.2 in /usr/local/lib/python3.7/dist-packages (from spacy<4->fastai>=2.6->fastbook) (2.0.6)\n",
            "Requirement already satisfied: srsly<3.0.0,>=2.4.3 in /usr/local/lib/python3.7/dist-packages (from spacy<4->fastai>=2.6->fastbook) (2.4.4)\n",
            "Requirement already satisfied: numpy>=1.15.0 in /usr/local/lib/python3.7/dist-packages (from spacy<4->fastai>=2.6->fastbook) (1.21.6)\n",
            "Requirement already satisfied: thinc<8.2.0,>=8.1.0 in /usr/local/lib/python3.7/dist-packages (from spacy<4->fastai>=2.6->fastbook) (8.1.0)\n",
            "Requirement already satisfied: pydantic!=1.8,!=1.8.1,<1.10.0,>=1.7.4 in /usr/local/lib/python3.7/dist-packages (from spacy<4->fastai>=2.6->fastbook) (1.9.2)\n",
            "Requirement already satisfied: preshed<3.1.0,>=3.0.2 in /usr/local/lib/python3.7/dist-packages (from spacy<4->fastai>=2.6->fastbook) (3.0.7)\n",
            "Requirement already satisfied: setuptools in /usr/local/lib/python3.7/dist-packages (from spacy<4->fastai>=2.6->fastbook) (57.4.0)\n",
            "Requirement already satisfied: langcodes<4.0.0,>=3.2.0 in /usr/local/lib/python3.7/dist-packages (from spacy<4->fastai>=2.6->fastbook) (3.3.0)\n",
            "Requirement already satisfied: spacy-loggers<2.0.0,>=1.0.0 in /usr/local/lib/python3.7/dist-packages (from spacy<4->fastai>=2.6->fastbook) (1.0.3)\n",
            "Requirement already satisfied: murmurhash<1.1.0,>=0.28.0 in /usr/local/lib/python3.7/dist-packages (from spacy<4->fastai>=2.6->fastbook) (1.0.8)\n",
            "Requirement already satisfied: jinja2 in /usr/local/lib/python3.7/dist-packages (from spacy<4->fastai>=2.6->fastbook) (2.11.3)\n",
            "Requirement already satisfied: zipp>=0.5 in /usr/local/lib/python3.7/dist-packages (from catalogue<2.1.0,>=2.0.6->spacy<4->fastai>=2.6->fastbook) (3.8.1)\n",
            "Requirement already satisfied: pyparsing!=3.0.5,>=2.0.2 in /usr/local/lib/python3.7/dist-packages (from packaging->fastbook) (3.0.9)\n",
            "Requirement already satisfied: smart-open<6.0.0,>=5.2.1 in /usr/local/lib/python3.7/dist-packages (from pathy>=0.3.5->spacy<4->fastai>=2.6->fastbook) (5.2.1)\n",
            "Requirement already satisfied: urllib3!=1.25.0,!=1.25.1,<1.26,>=1.21.1 in /usr/local/lib/python3.7/dist-packages (from requests->fastbook) (1.24.3)\n",
            "Requirement already satisfied: chardet<4,>=3.0.2 in /usr/local/lib/python3.7/dist-packages (from requests->fastbook) (3.0.4)\n",
            "Requirement already satisfied: idna<3,>=2.5 in /usr/local/lib/python3.7/dist-packages (from requests->fastbook) (2.10)\n",
            "Requirement already satisfied: certifi>=2017.4.17 in /usr/local/lib/python3.7/dist-packages (from requests->fastbook) (2022.6.15)\n",
            "Requirement already satisfied: blis<0.8.0,>=0.7.8 in /usr/local/lib/python3.7/dist-packages (from thinc<8.2.0,>=8.1.0->spacy<4->fastai>=2.6->fastbook) (0.7.8)\n",
            "Requirement already satisfied: click<9.0.0,>=7.1.1 in /usr/local/lib/python3.7/dist-packages (from typer<0.5.0,>=0.3.0->spacy<4->fastai>=2.6->fastbook) (7.1.2)\n",
            "Collecting multiprocess\n",
            "  Downloading multiprocess-0.70.13-py37-none-any.whl (115 kB)\n",
            "\u001b[K     |████████████████████████████████| 115 kB 38.2 MB/s \n",
            "\u001b[?25hCollecting huggingface-hub<1.0.0,>=0.1.0\n",
            "  Downloading huggingface_hub-0.9.1-py3-none-any.whl (120 kB)\n",
            "\u001b[K     |████████████████████████████████| 120 kB 46.8 MB/s \n",
            "\u001b[?25hRequirement already satisfied: fsspec[http]>=2021.11.1 in /usr/local/lib/python3.7/dist-packages (from datasets->fastbook) (2022.7.1)\n",
            "Collecting xxhash\n",
            "  Downloading xxhash-3.0.0-cp37-cp37m-manylinux_2_17_x86_64.manylinux2014_x86_64.whl (212 kB)\n",
            "\u001b[K     |████████████████████████████████| 212 kB 36.8 MB/s \n",
            "\u001b[?25hRequirement already satisfied: importlib-metadata in /usr/local/lib/python3.7/dist-packages (from datasets->fastbook) (4.12.0)\n",
            "Requirement already satisfied: pyarrow>=6.0.0 in /usr/local/lib/python3.7/dist-packages (from datasets->fastbook) (6.0.1)\n",
            "Collecting responses<0.19\n",
            "  Downloading responses-0.18.0-py3-none-any.whl (38 kB)\n",
            "Requirement already satisfied: aiohttp in /usr/local/lib/python3.7/dist-packages (from datasets->fastbook) (3.8.1)\n",
            "Requirement already satisfied: dill<0.3.6 in /usr/local/lib/python3.7/dist-packages (from datasets->fastbook) (0.3.5.1)\n",
            "Requirement already satisfied: filelock in /usr/local/lib/python3.7/dist-packages (from huggingface-hub<1.0.0,>=0.1.0->datasets->fastbook) (3.8.0)\n",
            "Collecting urllib3!=1.25.0,!=1.25.1,<1.26,>=1.21.1\n",
            "  Downloading urllib3-1.25.11-py2.py3-none-any.whl (127 kB)\n",
            "\u001b[K     |████████████████████████████████| 127 kB 23.4 MB/s \n",
            "\u001b[?25hRequirement already satisfied: aiosignal>=1.1.2 in /usr/local/lib/python3.7/dist-packages (from aiohttp->datasets->fastbook) (1.2.0)\n",
            "Requirement already satisfied: yarl<2.0,>=1.0 in /usr/local/lib/python3.7/dist-packages (from aiohttp->datasets->fastbook) (1.8.1)\n",
            "Requirement already satisfied: frozenlist>=1.1.1 in /usr/local/lib/python3.7/dist-packages (from aiohttp->datasets->fastbook) (1.3.1)\n",
            "Requirement already satisfied: attrs>=17.3.0 in /usr/local/lib/python3.7/dist-packages (from aiohttp->datasets->fastbook) (22.1.0)\n",
            "Requirement already satisfied: asynctest==0.13.0 in /usr/local/lib/python3.7/dist-packages (from aiohttp->datasets->fastbook) (0.13.0)\n",
            "Requirement already satisfied: charset-normalizer<3.0,>=2.0 in /usr/local/lib/python3.7/dist-packages (from aiohttp->datasets->fastbook) (2.1.0)\n",
            "Requirement already satisfied: async-timeout<5.0,>=4.0.0a3 in /usr/local/lib/python3.7/dist-packages (from aiohttp->datasets->fastbook) (4.0.2)\n",
            "Requirement already satisfied: multidict<7.0,>=4.5 in /usr/local/lib/python3.7/dist-packages (from aiohttp->datasets->fastbook) (6.0.2)\n",
            "Requirement already satisfied: MarkupSafe>=0.23 in /usr/local/lib/python3.7/dist-packages (from jinja2->spacy<4->fastai>=2.6->fastbook) (2.0.1)\n",
            "Requirement already satisfied: cycler>=0.10 in /usr/local/lib/python3.7/dist-packages (from matplotlib->fastai>=2.6->fastbook) (0.11.0)\n",
            "Requirement already satisfied: kiwisolver>=1.0.1 in /usr/local/lib/python3.7/dist-packages (from matplotlib->fastai>=2.6->fastbook) (1.4.4)\n",
            "Requirement already satisfied: python-dateutil>=2.1 in /usr/local/lib/python3.7/dist-packages (from matplotlib->fastai>=2.6->fastbook) (2.8.2)\n",
            "Requirement already satisfied: six>=1.5 in /usr/local/lib/python3.7/dist-packages (from python-dateutil>=2.1->matplotlib->fastai>=2.6->fastbook) (1.15.0)\n",
            "Requirement already satisfied: pytz>=2017.3 in /usr/local/lib/python3.7/dist-packages (from pandas->fastbook) (2022.2.1)\n",
            "Requirement already satisfied: joblib>=0.11 in /usr/local/lib/python3.7/dist-packages (from scikit-learn->fastai>=2.6->fastbook) (1.1.0)\n",
            "Requirement already satisfied: threadpoolctl>=2.0.0 in /usr/local/lib/python3.7/dist-packages (from scikit-learn->fastai>=2.6->fastbook) (3.1.0)\n",
            "Collecting tokenizers!=0.11.3,<0.13,>=0.11.1\n",
            "  Downloading tokenizers-0.12.1-cp37-cp37m-manylinux_2_12_x86_64.manylinux2010_x86_64.whl (6.6 MB)\n",
            "\u001b[K     |████████████████████████████████| 6.6 MB 37.6 MB/s \n",
            "\u001b[?25hRequirement already satisfied: regex!=2019.12.17 in /usr/local/lib/python3.7/dist-packages (from transformers->fastbook) (2022.6.2)\n",
            "Installing collected packages: urllib3, xxhash, tokenizers, responses, multiprocess, huggingface-hub, transformers, sentencepiece, datasets, fastbook\n",
            "  Attempting uninstall: urllib3\n",
            "    Found existing installation: urllib3 1.24.3\n",
            "    Uninstalling urllib3-1.24.3:\n",
            "      Successfully uninstalled urllib3-1.24.3\n",
            "Successfully installed datasets-2.4.0 fastbook-0.0.28 huggingface-hub-0.9.1 multiprocess-0.70.13 responses-0.18.0 sentencepiece-0.1.97 tokenizers-0.12.1 transformers-4.21.2 urllib3-1.25.11 xxhash-3.0.0\n"
          ]
        }
      ],
      "source": [
        "!pip install fastai\n",
        "!pip install fastbook"
      ]
    },
    {
      "cell_type": "code",
      "source": [
        "from fastbook import *\n",
        "from fastai.vision.all import *"
      ],
      "metadata": {
        "id": "asChsW_SJD_n"
      },
      "execution_count": 2,
      "outputs": []
    },
    {
      "cell_type": "code",
      "source": [
        "# Get MNIST samples\n",
        "path = untar_data(URLs.MNIST_SAMPLE)"
      ],
      "metadata": {
        "id": "ZAJNMUAmJJSv",
        "colab": {
          "base_uri": "https://localhost:8080/",
          "height": 37
        },
        "outputId": "aa847ef5-f9be-4b2a-c158-61a3489162e5"
      },
      "execution_count": 3,
      "outputs": [
        {
          "output_type": "display_data",
          "data": {
            "text/plain": [
              "<IPython.core.display.HTML object>"
            ],
            "text/html": [
              "\n",
              "<style>\n",
              "    /* Turns off some styling */\n",
              "    progress {\n",
              "        /* gets rid of default border in Firefox and Opera. */\n",
              "        border: none;\n",
              "        /* Needs to be in here for Safari polyfill so background images work as expected. */\n",
              "        background-size: auto;\n",
              "    }\n",
              "    progress:not([value]), progress:not([value])::-webkit-progress-bar {\n",
              "        background: repeating-linear-gradient(45deg, #7e7e7e, #7e7e7e 10px, #5c5c5c 10px, #5c5c5c 20px);\n",
              "    }\n",
              "    .progress-bar-interrupted, .progress-bar-interrupted::-webkit-progress-bar {\n",
              "        background: #F44336;\n",
              "    }\n",
              "</style>\n"
            ]
          },
          "metadata": {}
        },
        {
          "output_type": "display_data",
          "data": {
            "text/plain": [
              "<IPython.core.display.HTML object>"
            ],
            "text/html": [
              "\n",
              "    <div>\n",
              "      <progress value='3219456' class='' max='3214948' style='width:300px; height:20px; vertical-align: middle;'></progress>\n",
              "      100.14% [3219456/3214948 00:00&lt;00:00]\n",
              "    </div>\n",
              "    "
            ]
          },
          "metadata": {}
        }
      ]
    },
    {
      "cell_type": "code",
      "source": [
        "path.ls()"
      ],
      "metadata": {
        "colab": {
          "base_uri": "https://localhost:8080/"
        },
        "id": "alVdJ99DJS43",
        "outputId": "1866d149-842a-43ea-cffd-9fcf2bed216e"
      },
      "execution_count": 4,
      "outputs": [
        {
          "output_type": "execute_result",
          "data": {
            "text/plain": [
              "(#3) [Path('/root/.fastai/data/mnist_sample/train'),Path('/root/.fastai/data/mnist_sample/valid'),Path('/root/.fastai/data/mnist_sample/labels.csv')]"
            ]
          },
          "metadata": {},
          "execution_count": 4
        }
      ]
    },
    {
      "cell_type": "code",
      "source": [
        "(path/'train').ls()"
      ],
      "metadata": {
        "colab": {
          "base_uri": "https://localhost:8080/"
        },
        "id": "N5iSxRKfJYDm",
        "outputId": "8cda51c5-2e1a-4ea4-e5c6-642ff23563c9"
      },
      "execution_count": 5,
      "outputs": [
        {
          "output_type": "execute_result",
          "data": {
            "text/plain": [
              "(#2) [Path('/root/.fastai/data/mnist_sample/train/3'),Path('/root/.fastai/data/mnist_sample/train/7')]"
            ]
          },
          "metadata": {},
          "execution_count": 5
        }
      ]
    },
    {
      "cell_type": "code",
      "source": [
        "# Create a list of the png files for 3 and 7\n",
        "threes = (path/'train'/'3').ls().sorted()\n",
        "sevens = (path/'train'/'7').ls().sorted()\n",
        "threes"
      ],
      "metadata": {
        "colab": {
          "base_uri": "https://localhost:8080/"
        },
        "id": "_rQFgYIeJiYH",
        "outputId": "bff1dd53-57e8-4bd2-fdc2-aee49a6df42d"
      },
      "execution_count": 6,
      "outputs": [
        {
          "output_type": "execute_result",
          "data": {
            "text/plain": [
              "(#6131) [Path('/root/.fastai/data/mnist_sample/train/3/10.png'),Path('/root/.fastai/data/mnist_sample/train/3/10000.png'),Path('/root/.fastai/data/mnist_sample/train/3/10011.png'),Path('/root/.fastai/data/mnist_sample/train/3/10031.png'),Path('/root/.fastai/data/mnist_sample/train/3/10034.png'),Path('/root/.fastai/data/mnist_sample/train/3/10042.png'),Path('/root/.fastai/data/mnist_sample/train/3/10052.png'),Path('/root/.fastai/data/mnist_sample/train/3/1007.png'),Path('/root/.fastai/data/mnist_sample/train/3/10074.png'),Path('/root/.fastai/data/mnist_sample/train/3/10091.png')...]"
            ]
          },
          "metadata": {},
          "execution_count": 6
        }
      ]
    },
    {
      "cell_type": "code",
      "source": [
        "# Open an image in the \"3\" category\n",
        "im3_path = threes[1]\n",
        "im3 = Image.open(im3_path)\n",
        "im3"
      ],
      "metadata": {
        "colab": {
          "base_uri": "https://localhost:8080/",
          "height": 45
        },
        "id": "kIsi45TaJ3qG",
        "outputId": "8fb2ed97-477e-466c-910f-ab978fcc9359"
      },
      "execution_count": 7,
      "outputs": [
        {
          "output_type": "execute_result",
          "data": {
            "text/plain": [
              "<PIL.PngImagePlugin.PngImageFile image mode=L size=28x28>"
            ],
            "image/png": "[encoded data removed]"
          },
          "metadata": {},
          "execution_count": 7
        }
      ]
    },
    {
      "cell_type": "markdown",
      "source": [
        "numpy array of the image\n",
        "\n",
        "\n"
      ],
      "metadata": {
        "id": "y_-X4rJxK1ZX"
      }
    },
    {
      "cell_type": "code",
      "source": [
        "# Display a portion of the image as a numpy array\n",
        "array(im3)[4:10, 4:10]"
      ],
      "metadata": {
        "colab": {
          "base_uri": "https://localhost:8080/"
        },
        "id": "sc5zGTbTKPaW",
        "outputId": "62b0847d-7a18-48d8-91ec-3cebe4571439"
      },
      "execution_count": 8,
      "outputs": [
        {
          "output_type": "execute_result",
          "data": {
            "text/plain": [
              "array([[  0,   0,   0,   0,   0,   0],\n",
              "       [  0,   0,   0,   0,   0,  29],\n",
              "       [  0,   0,   0,  48, 166, 224],\n",
              "       [  0,  93, 244, 249, 253, 187],\n",
              "       [  0, 107, 253, 253, 230,  48],\n",
              "       [  0,   3,  20,  20,  15,   0]], dtype=uint8)"
            ]
          },
          "metadata": {},
          "execution_count": 8
        }
      ]
    },
    {
      "cell_type": "code",
      "source": [
        "# Create a dataframe from a tensor of the image\n",
        "im3_t = tensor(im3)\n",
        "df = pd.DataFrame(im3_t[4:15,4:22])\n",
        "df.style.set_properties(**{'font-size':'6pt'}).background_gradient('Greys')\n"
      ],
      "metadata": {
        "colab": {
          "base_uri": "https://localhost:8080/",
          "height": 394
        },
        "id": "w1BYW0FmKoFd",
        "outputId": "3413fc06-f8f2-4408-d49a-f02ff09b27bd"
      },
      "execution_count": 9,
      "outputs": [
        {
          "output_type": "execute_result",
          "data": {
            "text/plain": [
              "<pandas.io.formats.style.Styler at 0x7fcecb4a55d0>"
            ],
            "text/html": [
              "<style type=\"text/css\">\n",
              "#T_664b2_row0_col0, #T_664b2_row0_col1, #T_664b2_row0_col2, #T_664b2_row0_col3, #T_664b2_row0_col4, #T_664b2_row0_col5, #T_664b2_row0_col6, #T_664b2_row0_col7, #T_664b2_row0_col8, #T_664b2_row0_col9, #T_664b2_row0_col10, #T_664b2_row0_col11, #T_664b2_row0_col12, #T_664b2_row0_col13, #T_664b2_row0_col14, #T_664b2_row0_col15, #T_664b2_row0_col16, #T_664b2_row0_col17, #T_664b2_row1_col0, #T_664b2_row1_col1, #T_664b2_row1_col2, #T_664b2_row1_col3, #T_664b2_row1_col4, #T_664b2_row1_col15, #T_664b2_row1_col16, #T_664b2_row1_col17, #T_664b2_row2_col0, #T_664b2_row2_col1, #T_664b2_row2_col2, #T_664b2_row2_col15, #T_664b2_row2_col16, #T_664b2_row2_col17, #T_664b2_row3_col0, #T_664b2_row3_col15, #T_664b2_row3_col16, #T_664b2_row3_col17, #T_664b2_row4_col0, #T_664b2_row4_col6, #T_664b2_row4_col7, #T_664b2_row4_col8, #T_664b2_row4_col9, #T_664b2_row4_col10, #T_664b2_row4_col15, #T_664b2_row4_col16, #T_664b2_row4_col17, #T_664b2_row5_col0, #T_664b2_row5_col5, #T_664b2_row5_col6, #T_664b2_row5_col7, #T_664b2_row5_col8, #T_664b2_row5_col9, #T_664b2_row5_col15, #T_664b2_row5_col16, #T_664b2_row5_col17, #T_664b2_row6_col0, #T_664b2_row6_col1, #T_664b2_row6_col2, #T_664b2_row6_col3, #T_664b2_row6_col4, #T_664b2_row6_col5, #T_664b2_row6_col6, #T_664b2_row6_col7, #T_664b2_row6_col8, #T_664b2_row6_col9, #T_664b2_row6_col14, #T_664b2_row6_col15, #T_664b2_row6_col16, #T_664b2_row6_col17, #T_664b2_row7_col0, #T_664b2_row7_col1, #T_664b2_row7_col2, #T_664b2_row7_col3, #T_664b2_row7_col4, #T_664b2_row7_col5, #T_664b2_row7_col6, #T_664b2_row7_col13, #T_664b2_row7_col14, #T_664b2_row7_col15, #T_664b2_row7_col16, #T_664b2_row7_col17, #T_664b2_row8_col0, #T_664b2_row8_col1, #T_664b2_row8_col2, #T_664b2_row8_col3, #T_664b2_row8_col4, #T_664b2_row8_col13, #T_664b2_row8_col14, #T_664b2_row8_col15, #T_664b2_row8_col16, #T_664b2_row8_col17, #T_664b2_row9_col0, #T_664b2_row9_col1, #T_664b2_row9_col2, #T_664b2_row9_col3, #T_664b2_row9_col4, #T_664b2_row9_col16, #T_664b2_row9_col17, #T_664b2_row10_col0, #T_664b2_row10_col1, #T_664b2_row10_col2, #T_664b2_row10_col3, #T_664b2_row10_col4, #T_664b2_row10_col5, #T_664b2_row10_col6, #T_664b2_row10_col17 {\n",
              "  font-size: 6pt;\n",
              "  background-color: #ffffff;\n",
              "  color: #000000;\n",
              "}\n",
              "#T_664b2_row1_col5 {\n",
              "  font-size: 6pt;\n",
              "  background-color: #efefef;\n",
              "  color: #000000;\n",
              "}\n",
              "#T_664b2_row1_col6, #T_664b2_row1_col13 {\n",
              "  font-size: 6pt;\n",
              "  background-color: #7c7c7c;\n",
              "  color: #f1f1f1;\n",
              "}\n",
              "#T_664b2_row1_col7 {\n",
              "  font-size: 6pt;\n",
              "  background-color: #4a4a4a;\n",
              "  color: #f1f1f1;\n",
              "}\n",
              "#T_664b2_row1_col8, #T_664b2_row1_col9, #T_664b2_row1_col10, #T_664b2_row2_col5, #T_664b2_row2_col6, #T_664b2_row2_col7, #T_664b2_row2_col11, #T_664b2_row2_col12, #T_664b2_row2_col13, #T_664b2_row3_col4, #T_664b2_row3_col12, #T_664b2_row3_col13, #T_664b2_row4_col1, #T_664b2_row4_col2, #T_664b2_row4_col3, #T_664b2_row4_col12, #T_664b2_row4_col13, #T_664b2_row5_col12, #T_664b2_row6_col11, #T_664b2_row9_col11, #T_664b2_row10_col11, #T_664b2_row10_col12, #T_664b2_row10_col13, #T_664b2_row10_col14, #T_664b2_row10_col15, #T_664b2_row10_col16 {\n",
              "  font-size: 6pt;\n",
              "  background-color: #000000;\n",
              "  color: #f1f1f1;\n",
              "}\n",
              "#T_664b2_row1_col11 {\n",
              "  font-size: 6pt;\n",
              "  background-color: #606060;\n",
              "  color: #f1f1f1;\n",
              "}\n",
              "#T_664b2_row1_col12 {\n",
              "  font-size: 6pt;\n",
              "  background-color: #4d4d4d;\n",
              "  color: #f1f1f1;\n",
              "}\n",
              "#T_664b2_row1_col14 {\n",
              "  font-size: 6pt;\n",
              "  background-color: #bbbbbb;\n",
              "  color: #000000;\n",
              "}\n",
              "#T_664b2_row2_col3 {\n",
              "  font-size: 6pt;\n",
              "  background-color: #e4e4e4;\n",
              "  color: #000000;\n",
              "}\n",
              "#T_664b2_row2_col4, #T_664b2_row8_col6 {\n",
              "  font-size: 6pt;\n",
              "  background-color: #6b6b6b;\n",
              "  color: #f1f1f1;\n",
              "}\n",
              "#T_664b2_row2_col8, #T_664b2_row2_col14, #T_664b2_row3_col14 {\n",
              "  font-size: 6pt;\n",
              "  background-color: #171717;\n",
              "  color: #f1f1f1;\n",
              "}\n",
              "#T_664b2_row2_col9, #T_664b2_row3_col11 {\n",
              "  font-size: 6pt;\n",
              "  background-color: #4b4b4b;\n",
              "  color: #f1f1f1;\n",
              "}\n",
              "#T_664b2_row2_col10, #T_664b2_row7_col10, #T_664b2_row8_col8, #T_664b2_row8_col10, #T_664b2_row9_col8, #T_664b2_row9_col10 {\n",
              "  font-size: 6pt;\n",
              "  background-color: #010101;\n",
              "  color: #f1f1f1;\n",
              "}\n",
              "#T_664b2_row3_col1 {\n",
              "  font-size: 6pt;\n",
              "  background-color: #272727;\n",
              "  color: #f1f1f1;\n",
              "}\n",
              "#T_664b2_row3_col2 {\n",
              "  font-size: 6pt;\n",
              "  background-color: #0a0a0a;\n",
              "  color: #f1f1f1;\n",
              "}\n",
              "#T_664b2_row3_col3 {\n",
              "  font-size: 6pt;\n",
              "  background-color: #050505;\n",
              "  color: #f1f1f1;\n",
              "}\n",
              "#T_664b2_row3_col5 {\n",
              "  font-size: 6pt;\n",
              "  background-color: #333333;\n",
              "  color: #f1f1f1;\n",
              "}\n",
              "#T_664b2_row3_col6 {\n",
              "  font-size: 6pt;\n",
              "  background-color: #e6e6e6;\n",
              "  color: #000000;\n",
              "}\n",
              "#T_664b2_row3_col7, #T_664b2_row3_col10 {\n",
              "  font-size: 6pt;\n",
              "  background-color: #fafafa;\n",
              "  color: #000000;\n",
              "}\n",
              "#T_664b2_row3_col8 {\n",
              "  font-size: 6pt;\n",
              "  background-color: #fbfbfb;\n",
              "  color: #000000;\n",
              "}\n",
              "#T_664b2_row3_col9 {\n",
              "  font-size: 6pt;\n",
              "  background-color: #fdfdfd;\n",
              "  color: #000000;\n",
              "}\n",
              "#T_664b2_row4_col4 {\n",
              "  font-size: 6pt;\n",
              "  background-color: #1b1b1b;\n",
              "  color: #f1f1f1;\n",
              "}\n",
              "#T_664b2_row4_col5 {\n",
              "  font-size: 6pt;\n",
              "  background-color: #e0e0e0;\n",
              "  color: #000000;\n",
              "}\n",
              "#T_664b2_row4_col11 {\n",
              "  font-size: 6pt;\n",
              "  background-color: #4e4e4e;\n",
              "  color: #f1f1f1;\n",
              "}\n",
              "#T_664b2_row4_col14 {\n",
              "  font-size: 6pt;\n",
              "  background-color: #767676;\n",
              "  color: #f1f1f1;\n",
              "}\n",
              "#T_664b2_row5_col1 {\n",
              "  font-size: 6pt;\n",
              "  background-color: #fcfcfc;\n",
              "  color: #000000;\n",
              "}\n",
              "#T_664b2_row5_col2, #T_664b2_row5_col3 {\n",
              "  font-size: 6pt;\n",
              "  background-color: #f6f6f6;\n",
              "  color: #000000;\n",
              "}\n",
              "#T_664b2_row5_col4, #T_664b2_row7_col7 {\n",
              "  font-size: 6pt;\n",
              "  background-color: #f8f8f8;\n",
              "  color: #000000;\n",
              "}\n",
              "#T_664b2_row5_col10, #T_664b2_row10_col7 {\n",
              "  font-size: 6pt;\n",
              "  background-color: #e8e8e8;\n",
              "  color: #000000;\n",
              "}\n",
              "#T_664b2_row5_col11 {\n",
              "  font-size: 6pt;\n",
              "  background-color: #222222;\n",
              "  color: #f1f1f1;\n",
              "}\n",
              "#T_664b2_row5_col13, #T_664b2_row6_col12 {\n",
              "  font-size: 6pt;\n",
              "  background-color: #090909;\n",
              "  color: #f1f1f1;\n",
              "}\n",
              "#T_664b2_row5_col14 {\n",
              "  font-size: 6pt;\n",
              "  background-color: #d0d0d0;\n",
              "  color: #000000;\n",
              "}\n",
              "#T_664b2_row6_col10, #T_664b2_row7_col11, #T_664b2_row9_col6 {\n",
              "  font-size: 6pt;\n",
              "  background-color: #060606;\n",
              "  color: #f1f1f1;\n",
              "}\n",
              "#T_664b2_row6_col13 {\n",
              "  font-size: 6pt;\n",
              "  background-color: #979797;\n",
              "  color: #f1f1f1;\n",
              "}\n",
              "#T_664b2_row7_col8 {\n",
              "  font-size: 6pt;\n",
              "  background-color: #b6b6b6;\n",
              "  color: #000000;\n",
              "}\n",
              "#T_664b2_row7_col9 {\n",
              "  font-size: 6pt;\n",
              "  background-color: #252525;\n",
              "  color: #f1f1f1;\n",
              "}\n",
              "#T_664b2_row7_col12 {\n",
              "  font-size: 6pt;\n",
              "  background-color: #999999;\n",
              "  color: #f1f1f1;\n",
              "}\n",
              "#T_664b2_row8_col5 {\n",
              "  font-size: 6pt;\n",
              "  background-color: #f9f9f9;\n",
              "  color: #000000;\n",
              "}\n",
              "#T_664b2_row8_col7 {\n",
              "  font-size: 6pt;\n",
              "  background-color: #101010;\n",
              "  color: #f1f1f1;\n",
              "}\n",
              "#T_664b2_row8_col9, #T_664b2_row9_col9 {\n",
              "  font-size: 6pt;\n",
              "  background-color: #020202;\n",
              "  color: #f1f1f1;\n",
              "}\n",
              "#T_664b2_row8_col11 {\n",
              "  font-size: 6pt;\n",
              "  background-color: #545454;\n",
              "  color: #f1f1f1;\n",
              "}\n",
              "#T_664b2_row8_col12 {\n",
              "  font-size: 6pt;\n",
              "  background-color: #f1f1f1;\n",
              "  color: #000000;\n",
              "}\n",
              "#T_664b2_row9_col5 {\n",
              "  font-size: 6pt;\n",
              "  background-color: #f7f7f7;\n",
              "  color: #000000;\n",
              "}\n",
              "#T_664b2_row9_col7 {\n",
              "  font-size: 6pt;\n",
              "  background-color: #030303;\n",
              "  color: #f1f1f1;\n",
              "}\n",
              "#T_664b2_row9_col12 {\n",
              "  font-size: 6pt;\n",
              "  background-color: #181818;\n",
              "  color: #f1f1f1;\n",
              "}\n",
              "#T_664b2_row9_col13 {\n",
              "  font-size: 6pt;\n",
              "  background-color: #303030;\n",
              "  color: #f1f1f1;\n",
              "}\n",
              "#T_664b2_row9_col14 {\n",
              "  font-size: 6pt;\n",
              "  background-color: #a9a9a9;\n",
              "  color: #f1f1f1;\n",
              "}\n",
              "#T_664b2_row9_col15 {\n",
              "  font-size: 6pt;\n",
              "  background-color: #fefefe;\n",
              "  color: #000000;\n",
              "}\n",
              "#T_664b2_row10_col8, #T_664b2_row10_col9 {\n",
              "  font-size: 6pt;\n",
              "  background-color: #bababa;\n",
              "  color: #000000;\n",
              "}\n",
              "#T_664b2_row10_col10 {\n",
              "  font-size: 6pt;\n",
              "  background-color: #393939;\n",
              "  color: #f1f1f1;\n",
              "}\n",
              "</style>\n",
              "<table id=\"T_664b2_\" class=\"dataframe\">\n",
              "  <thead>\n",
              "    <tr>\n",
              "      <th class=\"blank level0\" >&nbsp;</th>\n",
              "      <th class=\"col_heading level0 col0\" >0</th>\n",
              "      <th class=\"col_heading level0 col1\" >1</th>\n",
              "      <th class=\"col_heading level0 col2\" >2</th>\n",
              "      <th class=\"col_heading level0 col3\" >3</th>\n",
              "      <th class=\"col_heading level0 col4\" >4</th>\n",
              "      <th class=\"col_heading level0 col5\" >5</th>\n",
              "      <th class=\"col_heading level0 col6\" >6</th>\n",
              "      <th class=\"col_heading level0 col7\" >7</th>\n",
              "      <th class=\"col_heading level0 col8\" >8</th>\n",
              "      <th class=\"col_heading level0 col9\" >9</th>\n",
              "      <th class=\"col_heading level0 col10\" >10</th>\n",
              "      <th class=\"col_heading level0 col11\" >11</th>\n",
              "      <th class=\"col_heading level0 col12\" >12</th>\n",
              "      <th class=\"col_heading level0 col13\" >13</th>\n",
              "      <th class=\"col_heading level0 col14\" >14</th>\n",
              "      <th class=\"col_heading level0 col15\" >15</th>\n",
              "      <th class=\"col_heading level0 col16\" >16</th>\n",
              "      <th class=\"col_heading level0 col17\" >17</th>\n",
              "    </tr>\n",
              "  </thead>\n",
              "  <tbody>\n",
              "    <tr>\n",
              "      <th id=\"T_664b2_level0_row0\" class=\"row_heading level0 row0\" >0</th>\n",
              "      <td id=\"T_664b2_row0_col0\" class=\"data row0 col0\" >0</td>\n",
              "      <td id=\"T_664b2_row0_col1\" class=\"data row0 col1\" >0</td>\n",
              "      <td id=\"T_664b2_row0_col2\" class=\"data row0 col2\" >0</td>\n",
              "      <td id=\"T_664b2_row0_col3\" class=\"data row0 col3\" >0</td>\n",
              "      <td id=\"T_664b2_row0_col4\" class=\"data row0 col4\" >0</td>\n",
              "      <td id=\"T_664b2_row0_col5\" class=\"data row0 col5\" >0</td>\n",
              "      <td id=\"T_664b2_row0_col6\" class=\"data row0 col6\" >0</td>\n",
              "      <td id=\"T_664b2_row0_col7\" class=\"data row0 col7\" >0</td>\n",
              "      <td id=\"T_664b2_row0_col8\" class=\"data row0 col8\" >0</td>\n",
              "      <td id=\"T_664b2_row0_col9\" class=\"data row0 col9\" >0</td>\n",
              "      <td id=\"T_664b2_row0_col10\" class=\"data row0 col10\" >0</td>\n",
              "      <td id=\"T_664b2_row0_col11\" class=\"data row0 col11\" >0</td>\n",
              "      <td id=\"T_664b2_row0_col12\" class=\"data row0 col12\" >0</td>\n",
              "      <td id=\"T_664b2_row0_col13\" class=\"data row0 col13\" >0</td>\n",
              "      <td id=\"T_664b2_row0_col14\" class=\"data row0 col14\" >0</td>\n",
              "      <td id=\"T_664b2_row0_col15\" class=\"data row0 col15\" >0</td>\n",
              "      <td id=\"T_664b2_row0_col16\" class=\"data row0 col16\" >0</td>\n",
              "      <td id=\"T_664b2_row0_col17\" class=\"data row0 col17\" >0</td>\n",
              "    </tr>\n",
              "    <tr>\n",
              "      <th id=\"T_664b2_level0_row1\" class=\"row_heading level0 row1\" >1</th>\n",
              "      <td id=\"T_664b2_row1_col0\" class=\"data row1 col0\" >0</td>\n",
              "      <td id=\"T_664b2_row1_col1\" class=\"data row1 col1\" >0</td>\n",
              "      <td id=\"T_664b2_row1_col2\" class=\"data row1 col2\" >0</td>\n",
              "      <td id=\"T_664b2_row1_col3\" class=\"data row1 col3\" >0</td>\n",
              "      <td id=\"T_664b2_row1_col4\" class=\"data row1 col4\" >0</td>\n",
              "      <td id=\"T_664b2_row1_col5\" class=\"data row1 col5\" >29</td>\n",
              "      <td id=\"T_664b2_row1_col6\" class=\"data row1 col6\" >150</td>\n",
              "      <td id=\"T_664b2_row1_col7\" class=\"data row1 col7\" >195</td>\n",
              "      <td id=\"T_664b2_row1_col8\" class=\"data row1 col8\" >254</td>\n",
              "      <td id=\"T_664b2_row1_col9\" class=\"data row1 col9\" >255</td>\n",
              "      <td id=\"T_664b2_row1_col10\" class=\"data row1 col10\" >254</td>\n",
              "      <td id=\"T_664b2_row1_col11\" class=\"data row1 col11\" >176</td>\n",
              "      <td id=\"T_664b2_row1_col12\" class=\"data row1 col12\" >193</td>\n",
              "      <td id=\"T_664b2_row1_col13\" class=\"data row1 col13\" >150</td>\n",
              "      <td id=\"T_664b2_row1_col14\" class=\"data row1 col14\" >96</td>\n",
              "      <td id=\"T_664b2_row1_col15\" class=\"data row1 col15\" >0</td>\n",
              "      <td id=\"T_664b2_row1_col16\" class=\"data row1 col16\" >0</td>\n",
              "      <td id=\"T_664b2_row1_col17\" class=\"data row1 col17\" >0</td>\n",
              "    </tr>\n",
              "    <tr>\n",
              "      <th id=\"T_664b2_level0_row2\" class=\"row_heading level0 row2\" >2</th>\n",
              "      <td id=\"T_664b2_row2_col0\" class=\"data row2 col0\" >0</td>\n",
              "      <td id=\"T_664b2_row2_col1\" class=\"data row2 col1\" >0</td>\n",
              "      <td id=\"T_664b2_row2_col2\" class=\"data row2 col2\" >0</td>\n",
              "      <td id=\"T_664b2_row2_col3\" class=\"data row2 col3\" >48</td>\n",
              "      <td id=\"T_664b2_row2_col4\" class=\"data row2 col4\" >166</td>\n",
              "      <td id=\"T_664b2_row2_col5\" class=\"data row2 col5\" >224</td>\n",
              "      <td id=\"T_664b2_row2_col6\" class=\"data row2 col6\" >253</td>\n",
              "      <td id=\"T_664b2_row2_col7\" class=\"data row2 col7\" >253</td>\n",
              "      <td id=\"T_664b2_row2_col8\" class=\"data row2 col8\" >234</td>\n",
              "      <td id=\"T_664b2_row2_col9\" class=\"data row2 col9\" >196</td>\n",
              "      <td id=\"T_664b2_row2_col10\" class=\"data row2 col10\" >253</td>\n",
              "      <td id=\"T_664b2_row2_col11\" class=\"data row2 col11\" >253</td>\n",
              "      <td id=\"T_664b2_row2_col12\" class=\"data row2 col12\" >253</td>\n",
              "      <td id=\"T_664b2_row2_col13\" class=\"data row2 col13\" >253</td>\n",
              "      <td id=\"T_664b2_row2_col14\" class=\"data row2 col14\" >233</td>\n",
              "      <td id=\"T_664b2_row2_col15\" class=\"data row2 col15\" >0</td>\n",
              "      <td id=\"T_664b2_row2_col16\" class=\"data row2 col16\" >0</td>\n",
              "      <td id=\"T_664b2_row2_col17\" class=\"data row2 col17\" >0</td>\n",
              "    </tr>\n",
              "    <tr>\n",
              "      <th id=\"T_664b2_level0_row3\" class=\"row_heading level0 row3\" >3</th>\n",
              "      <td id=\"T_664b2_row3_col0\" class=\"data row3 col0\" >0</td>\n",
              "      <td id=\"T_664b2_row3_col1\" class=\"data row3 col1\" >93</td>\n",
              "      <td id=\"T_664b2_row3_col2\" class=\"data row3 col2\" >244</td>\n",
              "      <td id=\"T_664b2_row3_col3\" class=\"data row3 col3\" >249</td>\n",
              "      <td id=\"T_664b2_row3_col4\" class=\"data row3 col4\" >253</td>\n",
              "      <td id=\"T_664b2_row3_col5\" class=\"data row3 col5\" >187</td>\n",
              "      <td id=\"T_664b2_row3_col6\" class=\"data row3 col6\" >46</td>\n",
              "      <td id=\"T_664b2_row3_col7\" class=\"data row3 col7\" >10</td>\n",
              "      <td id=\"T_664b2_row3_col8\" class=\"data row3 col8\" >8</td>\n",
              "      <td id=\"T_664b2_row3_col9\" class=\"data row3 col9\" >4</td>\n",
              "      <td id=\"T_664b2_row3_col10\" class=\"data row3 col10\" >10</td>\n",
              "      <td id=\"T_664b2_row3_col11\" class=\"data row3 col11\" >194</td>\n",
              "      <td id=\"T_664b2_row3_col12\" class=\"data row3 col12\" >253</td>\n",
              "      <td id=\"T_664b2_row3_col13\" class=\"data row3 col13\" >253</td>\n",
              "      <td id=\"T_664b2_row3_col14\" class=\"data row3 col14\" >233</td>\n",
              "      <td id=\"T_664b2_row3_col15\" class=\"data row3 col15\" >0</td>\n",
              "      <td id=\"T_664b2_row3_col16\" class=\"data row3 col16\" >0</td>\n",
              "      <td id=\"T_664b2_row3_col17\" class=\"data row3 col17\" >0</td>\n",
              "    </tr>\n",
              "    <tr>\n",
              "      <th id=\"T_664b2_level0_row4\" class=\"row_heading level0 row4\" >4</th>\n",
              "      <td id=\"T_664b2_row4_col0\" class=\"data row4 col0\" >0</td>\n",
              "      <td id=\"T_664b2_row4_col1\" class=\"data row4 col1\" >107</td>\n",
              "      <td id=\"T_664b2_row4_col2\" class=\"data row4 col2\" >253</td>\n",
              "      <td id=\"T_664b2_row4_col3\" class=\"data row4 col3\" >253</td>\n",
              "      <td id=\"T_664b2_row4_col4\" class=\"data row4 col4\" >230</td>\n",
              "      <td id=\"T_664b2_row4_col5\" class=\"data row4 col5\" >48</td>\n",
              "      <td id=\"T_664b2_row4_col6\" class=\"data row4 col6\" >0</td>\n",
              "      <td id=\"T_664b2_row4_col7\" class=\"data row4 col7\" >0</td>\n",
              "      <td id=\"T_664b2_row4_col8\" class=\"data row4 col8\" >0</td>\n",
              "      <td id=\"T_664b2_row4_col9\" class=\"data row4 col9\" >0</td>\n",
              "      <td id=\"T_664b2_row4_col10\" class=\"data row4 col10\" >0</td>\n",
              "      <td id=\"T_664b2_row4_col11\" class=\"data row4 col11\" >192</td>\n",
              "      <td id=\"T_664b2_row4_col12\" class=\"data row4 col12\" >253</td>\n",
              "      <td id=\"T_664b2_row4_col13\" class=\"data row4 col13\" >253</td>\n",
              "      <td id=\"T_664b2_row4_col14\" class=\"data row4 col14\" >156</td>\n",
              "      <td id=\"T_664b2_row4_col15\" class=\"data row4 col15\" >0</td>\n",
              "      <td id=\"T_664b2_row4_col16\" class=\"data row4 col16\" >0</td>\n",
              "      <td id=\"T_664b2_row4_col17\" class=\"data row4 col17\" >0</td>\n",
              "    </tr>\n",
              "    <tr>\n",
              "      <th id=\"T_664b2_level0_row5\" class=\"row_heading level0 row5\" >5</th>\n",
              "      <td id=\"T_664b2_row5_col0\" class=\"data row5 col0\" >0</td>\n",
              "      <td id=\"T_664b2_row5_col1\" class=\"data row5 col1\" >3</td>\n",
              "      <td id=\"T_664b2_row5_col2\" class=\"data row5 col2\" >20</td>\n",
              "      <td id=\"T_664b2_row5_col3\" class=\"data row5 col3\" >20</td>\n",
              "      <td id=\"T_664b2_row5_col4\" class=\"data row5 col4\" >15</td>\n",
              "      <td id=\"T_664b2_row5_col5\" class=\"data row5 col5\" >0</td>\n",
              "      <td id=\"T_664b2_row5_col6\" class=\"data row5 col6\" >0</td>\n",
              "      <td id=\"T_664b2_row5_col7\" class=\"data row5 col7\" >0</td>\n",
              "      <td id=\"T_664b2_row5_col8\" class=\"data row5 col8\" >0</td>\n",
              "      <td id=\"T_664b2_row5_col9\" class=\"data row5 col9\" >0</td>\n",
              "      <td id=\"T_664b2_row5_col10\" class=\"data row5 col10\" >43</td>\n",
              "      <td id=\"T_664b2_row5_col11\" class=\"data row5 col11\" >224</td>\n",
              "      <td id=\"T_664b2_row5_col12\" class=\"data row5 col12\" >253</td>\n",
              "      <td id=\"T_664b2_row5_col13\" class=\"data row5 col13\" >245</td>\n",
              "      <td id=\"T_664b2_row5_col14\" class=\"data row5 col14\" >74</td>\n",
              "      <td id=\"T_664b2_row5_col15\" class=\"data row5 col15\" >0</td>\n",
              "      <td id=\"T_664b2_row5_col16\" class=\"data row5 col16\" >0</td>\n",
              "      <td id=\"T_664b2_row5_col17\" class=\"data row5 col17\" >0</td>\n",
              "    </tr>\n",
              "    <tr>\n",
              "      <th id=\"T_664b2_level0_row6\" class=\"row_heading level0 row6\" >6</th>\n",
              "      <td id=\"T_664b2_row6_col0\" class=\"data row6 col0\" >0</td>\n",
              "      <td id=\"T_664b2_row6_col1\" class=\"data row6 col1\" >0</td>\n",
              "      <td id=\"T_664b2_row6_col2\" class=\"data row6 col2\" >0</td>\n",
              "      <td id=\"T_664b2_row6_col3\" class=\"data row6 col3\" >0</td>\n",
              "      <td id=\"T_664b2_row6_col4\" class=\"data row6 col4\" >0</td>\n",
              "      <td id=\"T_664b2_row6_col5\" class=\"data row6 col5\" >0</td>\n",
              "      <td id=\"T_664b2_row6_col6\" class=\"data row6 col6\" >0</td>\n",
              "      <td id=\"T_664b2_row6_col7\" class=\"data row6 col7\" >0</td>\n",
              "      <td id=\"T_664b2_row6_col8\" class=\"data row6 col8\" >0</td>\n",
              "      <td id=\"T_664b2_row6_col9\" class=\"data row6 col9\" >0</td>\n",
              "      <td id=\"T_664b2_row6_col10\" class=\"data row6 col10\" >249</td>\n",
              "      <td id=\"T_664b2_row6_col11\" class=\"data row6 col11\" >253</td>\n",
              "      <td id=\"T_664b2_row6_col12\" class=\"data row6 col12\" >245</td>\n",
              "      <td id=\"T_664b2_row6_col13\" class=\"data row6 col13\" >126</td>\n",
              "      <td id=\"T_664b2_row6_col14\" class=\"data row6 col14\" >0</td>\n",
              "      <td id=\"T_664b2_row6_col15\" class=\"data row6 col15\" >0</td>\n",
              "      <td id=\"T_664b2_row6_col16\" class=\"data row6 col16\" >0</td>\n",
              "      <td id=\"T_664b2_row6_col17\" class=\"data row6 col17\" >0</td>\n",
              "    </tr>\n",
              "    <tr>\n",
              "      <th id=\"T_664b2_level0_row7\" class=\"row_heading level0 row7\" >7</th>\n",
              "      <td id=\"T_664b2_row7_col0\" class=\"data row7 col0\" >0</td>\n",
              "      <td id=\"T_664b2_row7_col1\" class=\"data row7 col1\" >0</td>\n",
              "      <td id=\"T_664b2_row7_col2\" class=\"data row7 col2\" >0</td>\n",
              "      <td id=\"T_664b2_row7_col3\" class=\"data row7 col3\" >0</td>\n",
              "      <td id=\"T_664b2_row7_col4\" class=\"data row7 col4\" >0</td>\n",
              "      <td id=\"T_664b2_row7_col5\" class=\"data row7 col5\" >0</td>\n",
              "      <td id=\"T_664b2_row7_col6\" class=\"data row7 col6\" >0</td>\n",
              "      <td id=\"T_664b2_row7_col7\" class=\"data row7 col7\" >14</td>\n",
              "      <td id=\"T_664b2_row7_col8\" class=\"data row7 col8\" >101</td>\n",
              "      <td id=\"T_664b2_row7_col9\" class=\"data row7 col9\" >223</td>\n",
              "      <td id=\"T_664b2_row7_col10\" class=\"data row7 col10\" >253</td>\n",
              "      <td id=\"T_664b2_row7_col11\" class=\"data row7 col11\" >248</td>\n",
              "      <td id=\"T_664b2_row7_col12\" class=\"data row7 col12\" >124</td>\n",
              "      <td id=\"T_664b2_row7_col13\" class=\"data row7 col13\" >0</td>\n",
              "      <td id=\"T_664b2_row7_col14\" class=\"data row7 col14\" >0</td>\n",
              "      <td id=\"T_664b2_row7_col15\" class=\"data row7 col15\" >0</td>\n",
              "      <td id=\"T_664b2_row7_col16\" class=\"data row7 col16\" >0</td>\n",
              "      <td id=\"T_664b2_row7_col17\" class=\"data row7 col17\" >0</td>\n",
              "    </tr>\n",
              "    <tr>\n",
              "      <th id=\"T_664b2_level0_row8\" class=\"row_heading level0 row8\" >8</th>\n",
              "      <td id=\"T_664b2_row8_col0\" class=\"data row8 col0\" >0</td>\n",
              "      <td id=\"T_664b2_row8_col1\" class=\"data row8 col1\" >0</td>\n",
              "      <td id=\"T_664b2_row8_col2\" class=\"data row8 col2\" >0</td>\n",
              "      <td id=\"T_664b2_row8_col3\" class=\"data row8 col3\" >0</td>\n",
              "      <td id=\"T_664b2_row8_col4\" class=\"data row8 col4\" >0</td>\n",
              "      <td id=\"T_664b2_row8_col5\" class=\"data row8 col5\" >11</td>\n",
              "      <td id=\"T_664b2_row8_col6\" class=\"data row8 col6\" >166</td>\n",
              "      <td id=\"T_664b2_row8_col7\" class=\"data row8 col7\" >239</td>\n",
              "      <td id=\"T_664b2_row8_col8\" class=\"data row8 col8\" >253</td>\n",
              "      <td id=\"T_664b2_row8_col9\" class=\"data row8 col9\" >253</td>\n",
              "      <td id=\"T_664b2_row8_col10\" class=\"data row8 col10\" >253</td>\n",
              "      <td id=\"T_664b2_row8_col11\" class=\"data row8 col11\" >187</td>\n",
              "      <td id=\"T_664b2_row8_col12\" class=\"data row8 col12\" >30</td>\n",
              "      <td id=\"T_664b2_row8_col13\" class=\"data row8 col13\" >0</td>\n",
              "      <td id=\"T_664b2_row8_col14\" class=\"data row8 col14\" >0</td>\n",
              "      <td id=\"T_664b2_row8_col15\" class=\"data row8 col15\" >0</td>\n",
              "      <td id=\"T_664b2_row8_col16\" class=\"data row8 col16\" >0</td>\n",
              "      <td id=\"T_664b2_row8_col17\" class=\"data row8 col17\" >0</td>\n",
              "    </tr>\n",
              "    <tr>\n",
              "      <th id=\"T_664b2_level0_row9\" class=\"row_heading level0 row9\" >9</th>\n",
              "      <td id=\"T_664b2_row9_col0\" class=\"data row9 col0\" >0</td>\n",
              "      <td id=\"T_664b2_row9_col1\" class=\"data row9 col1\" >0</td>\n",
              "      <td id=\"T_664b2_row9_col2\" class=\"data row9 col2\" >0</td>\n",
              "      <td id=\"T_664b2_row9_col3\" class=\"data row9 col3\" >0</td>\n",
              "      <td id=\"T_664b2_row9_col4\" class=\"data row9 col4\" >0</td>\n",
              "      <td id=\"T_664b2_row9_col5\" class=\"data row9 col5\" >16</td>\n",
              "      <td id=\"T_664b2_row9_col6\" class=\"data row9 col6\" >248</td>\n",
              "      <td id=\"T_664b2_row9_col7\" class=\"data row9 col7\" >250</td>\n",
              "      <td id=\"T_664b2_row9_col8\" class=\"data row9 col8\" >253</td>\n",
              "      <td id=\"T_664b2_row9_col9\" class=\"data row9 col9\" >253</td>\n",
              "      <td id=\"T_664b2_row9_col10\" class=\"data row9 col10\" >253</td>\n",
              "      <td id=\"T_664b2_row9_col11\" class=\"data row9 col11\" >253</td>\n",
              "      <td id=\"T_664b2_row9_col12\" class=\"data row9 col12\" >232</td>\n",
              "      <td id=\"T_664b2_row9_col13\" class=\"data row9 col13\" >213</td>\n",
              "      <td id=\"T_664b2_row9_col14\" class=\"data row9 col14\" >111</td>\n",
              "      <td id=\"T_664b2_row9_col15\" class=\"data row9 col15\" >2</td>\n",
              "      <td id=\"T_664b2_row9_col16\" class=\"data row9 col16\" >0</td>\n",
              "      <td id=\"T_664b2_row9_col17\" class=\"data row9 col17\" >0</td>\n",
              "    </tr>\n",
              "    <tr>\n",
              "      <th id=\"T_664b2_level0_row10\" class=\"row_heading level0 row10\" >10</th>\n",
              "      <td id=\"T_664b2_row10_col0\" class=\"data row10 col0\" >0</td>\n",
              "      <td id=\"T_664b2_row10_col1\" class=\"data row10 col1\" >0</td>\n",
              "      <td id=\"T_664b2_row10_col2\" class=\"data row10 col2\" >0</td>\n",
              "      <td id=\"T_664b2_row10_col3\" class=\"data row10 col3\" >0</td>\n",
              "      <td id=\"T_664b2_row10_col4\" class=\"data row10 col4\" >0</td>\n",
              "      <td id=\"T_664b2_row10_col5\" class=\"data row10 col5\" >0</td>\n",
              "      <td id=\"T_664b2_row10_col6\" class=\"data row10 col6\" >0</td>\n",
              "      <td id=\"T_664b2_row10_col7\" class=\"data row10 col7\" >43</td>\n",
              "      <td id=\"T_664b2_row10_col8\" class=\"data row10 col8\" >98</td>\n",
              "      <td id=\"T_664b2_row10_col9\" class=\"data row10 col9\" >98</td>\n",
              "      <td id=\"T_664b2_row10_col10\" class=\"data row10 col10\" >208</td>\n",
              "      <td id=\"T_664b2_row10_col11\" class=\"data row10 col11\" >253</td>\n",
              "      <td id=\"T_664b2_row10_col12\" class=\"data row10 col12\" >253</td>\n",
              "      <td id=\"T_664b2_row10_col13\" class=\"data row10 col13\" >253</td>\n",
              "      <td id=\"T_664b2_row10_col14\" class=\"data row10 col14\" >253</td>\n",
              "      <td id=\"T_664b2_row10_col15\" class=\"data row10 col15\" >187</td>\n",
              "      <td id=\"T_664b2_row10_col16\" class=\"data row10 col16\" >22</td>\n",
              "      <td id=\"T_664b2_row10_col17\" class=\"data row10 col17\" >0</td>\n",
              "    </tr>\n",
              "  </tbody>\n",
              "</table>\n"
            ]
          },
          "metadata": {},
          "execution_count": 9
        }
      ]
    },
    {
      "cell_type": "markdown",
      "source": [
        "Create tensor images of the average pixel values of all images"
      ],
      "metadata": {
        "id": "s9LSeuPTQFku"
      }
    },
    {
      "cell_type": "code",
      "source": [
        "# Create a list of tensors for the 3 and 7 images\n",
        "three_tensors = [tensor(Image.open(o)) for o in threes]\n",
        "seven_tensors = [tensor(Image.open(o)) for o in sevens]\n",
        "len(three_tensors), len(seven_tensors)\n"
      ],
      "metadata": {
        "colab": {
          "base_uri": "https://localhost:8080/"
        },
        "id": "6wzVoeYPPd_p",
        "outputId": "df541bf9-39d5-4feb-d204-9a04eae3a594"
      },
      "execution_count": 10,
      "outputs": [
        {
          "output_type": "execute_result",
          "data": {
            "text/plain": [
              "(6131, 6265)"
            ]
          },
          "metadata": {},
          "execution_count": 10
        }
      ]
    },
    {
      "cell_type": "code",
      "source": [
        "show_image(three_tensors[1])"
      ],
      "metadata": {
        "colab": {
          "base_uri": "https://localhost:8080/",
          "height": 102
        },
        "id": "EMk_XVtoQCXG",
        "outputId": "b99ae2c7-82c9-40e5-8693-6b96eed913c9"
      },
      "execution_count": 11,
      "outputs": [
        {
          "output_type": "execute_result",
          "data": {
            "text/plain": [
              "<matplotlib.axes._subplots.AxesSubplot at 0x7fcecb4ac290>"
            ]
          },
          "metadata": {},
          "execution_count": 11
        },
        {
          "output_type": "display_data",
          "data": {
            "text/plain": [
              "<Figure size 72x72 with 1 Axes>"
            ],
            "image/png": "[encoded data removed]"
          },
          "metadata": {
            "needs_background": "light"
          }
        }
      ]
    },
    {
      "cell_type": "code",
      "source": [
        "# Stack all of the tensors to get an average value\n",
        "stacked_threes = torch.stack(three_tensors).float()/255\n",
        "stacked_sevens = torch.stack(seven_tensors).float()/255\n",
        "stacked_threes.shape"
      ],
      "metadata": {
        "colab": {
          "base_uri": "https://localhost:8080/"
        },
        "id": "_OGF-9opQe7v",
        "outputId": "efcc97f0-1133-49df-c638-5c458b5b1d77"
      },
      "execution_count": 12,
      "outputs": [
        {
          "output_type": "execute_result",
          "data": {
            "text/plain": [
              "torch.Size([6131, 28, 28])"
            ]
          },
          "metadata": {},
          "execution_count": 12
        }
      ]
    },
    {
      "cell_type": "code",
      "source": [
        "mean7 = stacked_sevens.mean(0)\n",
        "show_image(mean7)"
      ],
      "metadata": {
        "colab": {
          "base_uri": "https://localhost:8080/",
          "height": 102
        },
        "id": "PahIp2u-R3ZQ",
        "outputId": "c4b5aa91-340f-43e4-e7d8-758b0d59a383"
      },
      "execution_count": 13,
      "outputs": [
        {
          "output_type": "execute_result",
          "data": {
            "text/plain": [
              "<matplotlib.axes._subplots.AxesSubplot at 0x7fcecac86d50>"
            ]
          },
          "metadata": {},
          "execution_count": 13
        },
        {
          "output_type": "display_data",
          "data": {
            "text/plain": [
              "<Figure size 72x72 with 1 Axes>"
            ],
            "image/png": "[encoded data removed]"
          },
          "metadata": {
            "needs_background": "light"
          }
        }
      ]
    },
    {
      "cell_type": "code",
      "source": [
        "mean3 = stacked_threes.mean(0)\n",
        "show_image(mean3)"
      ],
      "metadata": {
        "colab": {
          "base_uri": "https://localhost:8080/",
          "height": 102
        },
        "id": "OCfnGG0ARpbf",
        "outputId": "ca5bfd04-cddd-4be2-8449-36c326207768"
      },
      "execution_count": 14,
      "outputs": [
        {
          "output_type": "execute_result",
          "data": {
            "text/plain": [
              "<matplotlib.axes._subplots.AxesSubplot at 0x7fcecac4c490>"
            ]
          },
          "metadata": {},
          "execution_count": 14
        },
        {
          "output_type": "display_data",
          "data": {
            "text/plain": [
              "<Figure size 72x72 with 1 Axes>"
            ],
            "image/png": "[encoded data removed]"
          },
          "metadata": {
            "needs_background": "light"
          }
        }
      ]
    },
    {
      "cell_type": "code",
      "source": [
        "# Perform a loss function to determine if 3 is closer to the ideal 7 or 3\n",
        "a_3 = stacked_threes[1]\n",
        "F.l1_loss(a_3.float(),mean7), F.mse_loss(a_3,mean7).sqrt()"
      ],
      "metadata": {
        "colab": {
          "base_uri": "https://localhost:8080/"
        },
        "id": "YQswlAKJTQdS",
        "outputId": "c49b32ac-4f69-40f8-cc1b-f4018e4633d1"
      },
      "execution_count": 15,
      "outputs": [
        {
          "output_type": "execute_result",
          "data": {
            "text/plain": [
              "(tensor(0.1586), tensor(0.3021))"
            ]
          },
          "metadata": {},
          "execution_count": 15
        }
      ]
    },
    {
      "cell_type": "code",
      "source": [
        "# Import and stack the valid data\n",
        "valid_3_tens = torch.stack([tensor(Image.open(o)) for o in (path/'valid'/'3').ls()])\n",
        "valid_3_tens = valid_3_tens.float()/255\n",
        "valid_7_tens = torch.stack([tensor(Image.open(o)) for o in (path/'valid'/'7').ls()])\n",
        "valid_7_tens = valid_7_tens.float()/255\n",
        "valid_3_tens.shape,valid_7_tens.shape"
      ],
      "metadata": {
        "colab": {
          "base_uri": "https://localhost:8080/"
        },
        "id": "E4ya6VCqafhY",
        "outputId": "d50aa2df-5913-4cd2-8791-628e11e8e07e"
      },
      "execution_count": 16,
      "outputs": [
        {
          "output_type": "execute_result",
          "data": {
            "text/plain": [
              "(torch.Size([1010, 28, 28]), torch.Size([1028, 28, 28]))"
            ]
          },
          "metadata": {},
          "execution_count": 16
        }
      ]
    },
    {
      "cell_type": "code",
      "source": [
        "# Function to see how inputs are from one another\n",
        "def mnist_distance(a,b): return (a-b).abs().mean((-1,-2))\n",
        "mnist_distance(a_3, mean3)"
      ],
      "metadata": {
        "colab": {
          "base_uri": "https://localhost:8080/"
        },
        "id": "XSImr7nlbg7T",
        "outputId": "b6197af3-d720-472d-ea02-e8d188b4679c"
      },
      "execution_count": 17,
      "outputs": [
        {
          "output_type": "execute_result",
          "data": {
            "text/plain": [
              "tensor(0.1114)"
            ]
          },
          "metadata": {},
          "execution_count": 17
        }
      ]
    },
    {
      "cell_type": "code",
      "source": [
        "valid_3_dist = mnist_distance(valid_3_tens, mean3)\n",
        "valid_3_dist, valid_3_dist.shape"
      ],
      "metadata": {
        "colab": {
          "base_uri": "https://localhost:8080/"
        },
        "id": "Auo1xAD-b8hV",
        "outputId": "b79a0581-9fad-4de0-d964-a77e9b32fa68"
      },
      "execution_count": 18,
      "outputs": [
        {
          "output_type": "execute_result",
          "data": {
            "text/plain": [
              "(tensor([0.1541, 0.1522, 0.1262,  ..., 0.1621, 0.1411, 0.1183]),\n",
              " torch.Size([1010]))"
            ]
          },
          "metadata": {},
          "execution_count": 18
        }
      ]
    },
    {
      "cell_type": "markdown",
      "source": [
        "Test if a function is a 3"
      ],
      "metadata": {
        "id": "pcvMaCrpIwWJ"
      }
    },
    {
      "cell_type": "code",
      "source": [
        "def is_3(x): return mnist_distance(x, mean3) < mnist_distance(x, mean7)"
      ],
      "metadata": {
        "id": "isI1NXkVKVc3"
      },
      "execution_count": 19,
      "outputs": []
    },
    {
      "cell_type": "code",
      "source": [
        "# Test on a single 3 image\n",
        "is_3(a_3), is_3(a_3).float()"
      ],
      "metadata": {
        "colab": {
          "base_uri": "https://localhost:8080/"
        },
        "id": "b-SRNuWmKgMa",
        "outputId": "9e18be81-723a-412d-be83-2944ebf67674"
      },
      "execution_count": 20,
      "outputs": [
        {
          "output_type": "execute_result",
          "data": {
            "text/plain": [
              "(tensor(True), tensor(1.))"
            ]
          },
          "metadata": {},
          "execution_count": 20
        }
      ]
    },
    {
      "cell_type": "code",
      "source": [
        "# Perform 3 check on all valid 3s\n",
        "is_3(valid_3_tens)"
      ],
      "metadata": {
        "colab": {
          "base_uri": "https://localhost:8080/"
        },
        "id": "zgBP3qjxKjD_",
        "outputId": "3b1e49ab-88f0-4192-d3ba-2a95037bc077"
      },
      "execution_count": 21,
      "outputs": [
        {
          "output_type": "execute_result",
          "data": {
            "text/plain": [
              "tensor([ True, False,  True,  ...,  True,  True,  True])"
            ]
          },
          "metadata": {},
          "execution_count": 21
        }
      ]
    },
    {
      "cell_type": "code",
      "source": [
        "# Check accuracy on valid 3\n",
        "accuracy_3s = is_3(valid_3_tens).float().mean()\n",
        "# Check accuraacy on valid 7\n",
        "accuracy_7s = (1 - is_3(valid_7_tens).float().mean())\n",
        "accuracy_3s, accuracy_7s, (accuracy_3s+accuracy_7s)/2"
      ],
      "metadata": {
        "colab": {
          "base_uri": "https://localhost:8080/"
        },
        "id": "VWMDgZ5fKy1o",
        "outputId": "6456e32a-40f9-43eb-901e-8bb9dfde9383"
      },
      "execution_count": 22,
      "outputs": [
        {
          "output_type": "execute_result",
          "data": {
            "text/plain": [
              "(tensor(0.9168), tensor(0.9854), tensor(0.9511))"
            ]
          },
          "metadata": {},
          "execution_count": 22
        }
      ]
    },
    {
      "cell_type": "markdown",
      "source": [
        "Stochastic Gradient Descent"
      ],
      "metadata": {
        "id": "-ogprd1BXDyn"
      }
    },
    {
      "cell_type": "code",
      "source": [
        "def f(x): return x**2\n",
        "plot_function(f, 'x', 'x**2')"
      ],
      "metadata": {
        "colab": {
          "base_uri": "https://localhost:8080/",
          "height": 285
        },
        "id": "3Xeih_1pXj9V",
        "outputId": "a5eda762-0db9-428a-e696-e28526454b53"
      },
      "execution_count": 23,
      "outputs": [
        {
          "output_type": "display_data",
          "data": {
            "text/plain": [
              "<Figure size 432x288 with 1 Axes>"
            ],
            "image/png": "[encoded data removed]"
          },
          "metadata": {
            "needs_background": "light"
          }
        }
      ]
    },
    {
      "cell_type": "code",
      "source": [
        "xt = tensor(3.).requires_grad_()"
      ],
      "metadata": {
        "id": "j89s4x2wTybg"
      },
      "execution_count": 24,
      "outputs": []
    },
    {
      "cell_type": "code",
      "source": [
        "yt = f(xt)\n",
        "yt"
      ],
      "metadata": {
        "colab": {
          "base_uri": "https://localhost:8080/"
        },
        "id": "L4uR7z7eXdfV",
        "outputId": "b86b29d4-17e6-4c86-ec0d-3b077c57f524"
      },
      "execution_count": 25,
      "outputs": [
        {
          "output_type": "execute_result",
          "data": {
            "text/plain": [
              "tensor(9., grad_fn=<PowBackward0>)"
            ]
          },
          "metadata": {},
          "execution_count": 25
        }
      ]
    },
    {
      "cell_type": "code",
      "source": [
        "yt.backward()"
      ],
      "metadata": {
        "id": "WB2-dk0oX2Bt"
      },
      "execution_count": 26,
      "outputs": []
    },
    {
      "cell_type": "code",
      "source": [
        "xt.grad"
      ],
      "metadata": {
        "colab": {
          "base_uri": "https://localhost:8080/"
        },
        "id": "5ICp_mnBYHSq",
        "outputId": "48e1f2bc-8a9e-4ca3-88fe-5fe2e394ffc8"
      },
      "execution_count": 27,
      "outputs": [
        {
          "output_type": "execute_result",
          "data": {
            "text/plain": [
              "tensor(6.)"
            ]
          },
          "metadata": {},
          "execution_count": 27
        }
      ]
    },
    {
      "cell_type": "code",
      "source": [
        "xt = tensor([3., 4., 10.]).requires_grad_()\n",
        "xt"
      ],
      "metadata": {
        "colab": {
          "base_uri": "https://localhost:8080/"
        },
        "id": "YvzNIF43Zz2S",
        "outputId": "f97672e0-9908-4938-c169-00397d562ee2"
      },
      "execution_count": 28,
      "outputs": [
        {
          "output_type": "execute_result",
          "data": {
            "text/plain": [
              "tensor([ 3.,  4., 10.], requires_grad=True)"
            ]
          },
          "metadata": {},
          "execution_count": 28
        }
      ]
    },
    {
      "cell_type": "code",
      "source": [
        "def f(x): return (x**2).sum()\n",
        "yt = f(xt)\n",
        "yt"
      ],
      "metadata": {
        "colab": {
          "base_uri": "https://localhost:8080/"
        },
        "id": "1HWkCXuiZ66j",
        "outputId": "60998154-33cc-4420-ef35-c42111fbc8b0"
      },
      "execution_count": 29,
      "outputs": [
        {
          "output_type": "execute_result",
          "data": {
            "text/plain": [
              "tensor(125., grad_fn=<SumBackward0>)"
            ]
          },
          "metadata": {},
          "execution_count": 29
        }
      ]
    },
    {
      "cell_type": "code",
      "source": [
        "yt.backward()\n",
        "xt.grad"
      ],
      "metadata": {
        "colab": {
          "base_uri": "https://localhost:8080/"
        },
        "id": "vxpsNZrQZ9fj",
        "outputId": "663c9cab-04fb-455d-b62a-7b5a06aa0b1d"
      },
      "execution_count": 30,
      "outputs": [
        {
          "output_type": "execute_result",
          "data": {
            "text/plain": [
              "tensor([ 6.,  8., 20.])"
            ]
          },
          "metadata": {},
          "execution_count": 30
        }
      ]
    },
    {
      "cell_type": "code",
      "source": [
        "time = torch.arange(0,20).float(); time"
      ],
      "metadata": {
        "colab": {
          "base_uri": "https://localhost:8080/"
        },
        "id": "B-9JZsKJUlSn",
        "outputId": "c280a8a2-4a34-4865-dda5-6f4b19855c36"
      },
      "execution_count": 31,
      "outputs": [
        {
          "output_type": "execute_result",
          "data": {
            "text/plain": [
              "tensor([ 0.,  1.,  2.,  3.,  4.,  5.,  6.,  7.,  8.,  9., 10., 11., 12., 13., 14., 15., 16., 17., 18., 19.])"
            ]
          },
          "metadata": {},
          "execution_count": 31
        }
      ]
    },
    {
      "cell_type": "code",
      "source": [
        "speed = torch.randn(20)*3 + 0.75*(time-9.5)**2 + 1\n",
        "plt.scatter(time,speed)"
      ],
      "metadata": {
        "colab": {
          "base_uri": "https://localhost:8080/",
          "height": 285
        },
        "id": "brkc0jodUqIQ",
        "outputId": "78f3f47b-0311-4da5-9b77-caca94dee9d8"
      },
      "execution_count": 32,
      "outputs": [
        {
          "output_type": "execute_result",
          "data": {
            "text/plain": [
              "<matplotlib.collections.PathCollection at 0x7fcecab63a10>"
            ]
          },
          "metadata": {},
          "execution_count": 32
        },
        {
          "output_type": "display_data",
          "data": {
            "text/plain": [
              "<Figure size 432x288 with 1 Axes>"
            ],
            "image/png": "[encoded data removed]"
          },
          "metadata": {
            "needs_background": "light"
          }
        }
      ]
    },
    {
      "cell_type": "code",
      "source": [
        "def f(t, params):\n",
        "  a,b,c = params\n",
        "  return a*(t**2) + (b*t) + c"
      ],
      "metadata": {
        "id": "YiIv1vKsVtTp"
      },
      "execution_count": 33,
      "outputs": []
    },
    {
      "cell_type": "code",
      "source": [
        "def mse(preds, targets): return ((preds-targets)**2).mean()"
      ],
      "metadata": {
        "id": "epwPlNZ_WjWe"
      },
      "execution_count": 34,
      "outputs": []
    },
    {
      "cell_type": "markdown",
      "source": [
        "Initialize parameters"
      ],
      "metadata": {
        "id": "g0AYCRBNZ3-4"
      }
    },
    {
      "cell_type": "code",
      "source": [
        "params = torch.randn(3).requires_grad_(); params"
      ],
      "metadata": {
        "colab": {
          "base_uri": "https://localhost:8080/"
        },
        "id": "F6lergNaW-eH",
        "outputId": "08604dcb-c8ca-4b1a-f10a-b1b155d1246f"
      },
      "execution_count": 35,
      "outputs": [
        {
          "output_type": "execute_result",
          "data": {
            "text/plain": [
              "tensor([-0.7658, -0.7506,  1.3525], requires_grad=True)"
            ]
          },
          "metadata": {},
          "execution_count": 35
        }
      ]
    },
    {
      "cell_type": "markdown",
      "source": [
        "Calculate predictions"
      ],
      "metadata": {
        "id": "51S8pv9NZ7kv"
      }
    },
    {
      "cell_type": "code",
      "source": [
        "preds = f(time, params)"
      ],
      "metadata": {
        "id": "onZRPKQJXbzX"
      },
      "execution_count": 36,
      "outputs": []
    },
    {
      "cell_type": "code",
      "source": [
        "def show_preds(preds, ax=None):\n",
        "  if ax is None: ax = plt.subplots()[1]\n",
        "  ax.scatter(time, speed)\n",
        "  ax.scatter(time, to_np(preds), color=\"red\")\n",
        "  ax.set_ylim(-300, 100)\n",
        "\n",
        "show_preds(preds)"
      ],
      "metadata": {
        "colab": {
          "base_uri": "https://localhost:8080/",
          "height": 273
        },
        "id": "9uovxgAaXlYf",
        "outputId": "e05bfb44-1487-4b31-93a0-54f19eeb948c"
      },
      "execution_count": 37,
      "outputs": [
        {
          "output_type": "display_data",
          "data": {
            "text/plain": [
              "<Figure size 432x288 with 1 Axes>"
            ],
            "image/png": "[encoded data removed]"
          },
          "metadata": {
            "needs_background": "light"
          }
        }
      ]
    },
    {
      "cell_type": "markdown",
      "source": [
        "Calculate the loss"
      ],
      "metadata": {
        "id": "Np3bIf08Z-yQ"
      }
    },
    {
      "cell_type": "code",
      "source": [
        "loss = mse(preds, speed)\n",
        "loss"
      ],
      "metadata": {
        "colab": {
          "base_uri": "https://localhost:8080/"
        },
        "id": "86uTwrQjYWmQ",
        "outputId": "ab6f9a4f-61b6-48c1-c7ce-9d1319efc014"
      },
      "execution_count": 38,
      "outputs": [
        {
          "output_type": "execute_result",
          "data": {
            "text/plain": [
              "tensor(25823.8086, grad_fn=<MeanBackward0>)"
            ]
          },
          "metadata": {},
          "execution_count": 38
        }
      ]
    },
    {
      "cell_type": "markdown",
      "source": [
        "Calculate the gradients"
      ],
      "metadata": {
        "id": "NUO7r485aDfB"
      }
    },
    {
      "cell_type": "code",
      "source": [
        "loss.backward()\n",
        "params.grad"
      ],
      "metadata": {
        "colab": {
          "base_uri": "https://localhost:8080/"
        },
        "id": "tIsX1AIdY4U3",
        "outputId": "3d1bfac0-0d7d-4d88-a3d0-70882e1266e2"
      },
      "execution_count": 39,
      "outputs": [
        {
          "output_type": "execute_result",
          "data": {
            "text/plain": [
              "tensor([-53195.8633,  -3419.7148,   -253.8908])"
            ]
          },
          "metadata": {},
          "execution_count": 39
        }
      ]
    },
    {
      "cell_type": "code",
      "source": [
        "params.grad * 1e-5"
      ],
      "metadata": {
        "colab": {
          "base_uri": "https://localhost:8080/"
        },
        "id": "JsrODBEgY84n",
        "outputId": "7194464e-ef9a-49ca-a64f-ed4b1eae5e03"
      },
      "execution_count": 40,
      "outputs": [
        {
          "output_type": "execute_result",
          "data": {
            "text/plain": [
              "tensor([-0.5320, -0.0342, -0.0025])"
            ]
          },
          "metadata": {},
          "execution_count": 40
        }
      ]
    },
    {
      "cell_type": "code",
      "source": [
        "params"
      ],
      "metadata": {
        "colab": {
          "base_uri": "https://localhost:8080/"
        },
        "id": "KUKf7kRiZBIH",
        "outputId": "ed3a0964-34a6-4e3e-c9af-4f6fecbc5d7c"
      },
      "execution_count": 41,
      "outputs": [
        {
          "output_type": "execute_result",
          "data": {
            "text/plain": [
              "tensor([-0.7658, -0.7506,  1.3525], requires_grad=True)"
            ]
          },
          "metadata": {},
          "execution_count": 41
        }
      ]
    },
    {
      "cell_type": "markdown",
      "source": [
        "Step the weights"
      ],
      "metadata": {
        "id": "C8wJxOFgaG4n"
      }
    },
    {
      "cell_type": "code",
      "source": [
        "lr = 1e-5\n",
        "params.data -= lr * params.grad.data\n",
        "params.grad = None"
      ],
      "metadata": {
        "id": "RkPEONiTaI2X"
      },
      "execution_count": 42,
      "outputs": []
    },
    {
      "cell_type": "code",
      "source": [
        "preds = f(time, params)\n",
        "mse(preds, speed)"
      ],
      "metadata": {
        "colab": {
          "base_uri": "https://localhost:8080/"
        },
        "id": "oUU8TCf2aR_I",
        "outputId": "69e3aef7-d666-4fae-e31b-5ec797dfa9de"
      },
      "execution_count": 43,
      "outputs": [
        {
          "output_type": "execute_result",
          "data": {
            "text/plain": [
              "tensor(5435.5356, grad_fn=<MeanBackward0>)"
            ]
          },
          "metadata": {},
          "execution_count": 43
        }
      ]
    },
    {
      "cell_type": "code",
      "source": [
        "show_preds(preds)"
      ],
      "metadata": {
        "colab": {
          "base_uri": "https://localhost:8080/",
          "height": 273
        },
        "id": "I5dVBzYFaYAe",
        "outputId": "2610b6e9-1029-4827-8bdf-78bc03b45dd2"
      },
      "execution_count": 44,
      "outputs": [
        {
          "output_type": "display_data",
          "data": {
            "text/plain": [
              "<Figure size 432x288 with 1 Axes>"
            ],
            "image/png": "[encoded data removed]"
          },
          "metadata": {
            "needs_background": "light"
          }
        }
      ]
    },
    {
      "cell_type": "code",
      "source": [
        "def apply_step(params, prn=True):\n",
        "  preds = f(time, params)\n",
        "  loss = mse(preds, speed)\n",
        "  loss.backward()\n",
        "  params.data -= lr * params.grad.data\n",
        "  params.grad = None\n",
        "  if prn: print(loss.item())\n",
        "  return preds"
      ],
      "metadata": {
        "id": "PU8fCApMagwv"
      },
      "execution_count": 45,
      "outputs": []
    },
    {
      "cell_type": "code",
      "source": [
        "for i in range(10):apply_step(params)"
      ],
      "metadata": {
        "colab": {
          "base_uri": "https://localhost:8080/"
        },
        "id": "3PaL2xRva0jb",
        "outputId": "4ed7876c-41d2-4a0e-d2dc-d0192c6343a3"
      },
      "execution_count": 46,
      "outputs": [
        {
          "output_type": "stream",
          "name": "stdout",
          "text": [
            "5435.53564453125\n",
            "1577.44921875\n",
            "847.3778076171875\n",
            "709.2225341796875\n",
            "683.0758056640625\n",
            "678.1243896484375\n",
            "677.1838989257812\n",
            "677.0023803710938\n",
            "676.9645385742188\n",
            "676.9537353515625\n"
          ]
        }
      ]
    },
    {
      "cell_type": "code",
      "source": [
        "_,axs = plt.subplots(1,4,figsize=(12,3))\n",
        "for ax in axs: show_preds(apply_step(params, False), ax)\n",
        "plt.tight_layout()"
      ],
      "metadata": {
        "colab": {
          "base_uri": "https://localhost:8080/",
          "height": 221
        },
        "id": "Yv39nB22bCGX",
        "outputId": "d704db36-ad0f-436d-8eda-5a42a2989b74"
      },
      "execution_count": 47,
      "outputs": [
        {
          "output_type": "display_data",
          "data": {
            "text/plain": [
              "<Figure size 864x216 with 4 Axes>"
            ],
            "image/png": "[encoded data removed]"
          },
          "metadata": {
            "needs_background": "light"
          }
        }
      ]
    },
    {
      "cell_type": "markdown",
      "source": [
        "MNIST Loss Function"
      ],
      "metadata": {
        "id": "yFNl5AKVxlH3"
      }
    },
    {
      "cell_type": "code",
      "source": [
        "train_x = torch.cat([stacked_threes, stacked_sevens]).view(-1, 28*28)\n",
        "train_y = tensor([1]*len(threes)+[0]*len(sevens)).unsqueeze(1)\n",
        "train_x.shape, train_y.shape"
      ],
      "metadata": {
        "colab": {
          "base_uri": "https://localhost:8080/"
        },
        "id": "FrWYxhjhxnSH",
        "outputId": "ac62eec1-b355-47d8-e2a1-afa283d38fd9"
      },
      "execution_count": 79,
      "outputs": [
        {
          "output_type": "execute_result",
          "data": {
            "text/plain": [
              "(torch.Size([12396, 784]), torch.Size([12396, 1]))"
            ]
          },
          "metadata": {},
          "execution_count": 79
        }
      ]
    },
    {
      "cell_type": "code",
      "source": [
        "dset = list(zip(train_x, train_y))\n",
        "x,y = dset[0]\n",
        "x.shape, y"
      ],
      "metadata": {
        "colab": {
          "base_uri": "https://localhost:8080/"
        },
        "id": "Gjh3U7t1ziNE",
        "outputId": "da7687e5-4390-4d1b-f943-683313f3c93e"
      },
      "execution_count": 80,
      "outputs": [
        {
          "output_type": "execute_result",
          "data": {
            "text/plain": [
              "(torch.Size([784]), tensor([1]))"
            ]
          },
          "metadata": {},
          "execution_count": 80
        }
      ]
    },
    {
      "cell_type": "code",
      "source": [
        "valid_x = torch.cat([valid_3_tens, valid_7_tens]).view(-1, 28*28)\n",
        "valid_y = tensor([1]*len(valid_3_tens) + [0]*len(valid_7_tens)).unsqueeze(1)\n",
        "valid_dset = list(zip(valid_x, valid_y))"
      ],
      "metadata": {
        "id": "Itw5B7Wt0cHz"
      },
      "execution_count": 81,
      "outputs": []
    },
    {
      "cell_type": "code",
      "source": [
        "def init_params(size, std=1.0): return (torch.randn(size)*std).requires_grad_()\n",
        "weights = init_params((28*28,1))\n",
        "bias = init_params(1)"
      ],
      "metadata": {
        "id": "_pysHaeP1mQk"
      },
      "execution_count": 82,
      "outputs": []
    },
    {
      "cell_type": "code",
      "source": [
        "(train_x[0]*weights.T).sum() + bias"
      ],
      "metadata": {
        "colab": {
          "base_uri": "https://localhost:8080/"
        },
        "id": "hpbvp4V229SY",
        "outputId": "cab0468f-a089-4d6a-bf00-cfa0b9b03e4e"
      },
      "execution_count": 83,
      "outputs": [
        {
          "output_type": "execute_result",
          "data": {
            "text/plain": [
              "tensor([-15.0616], grad_fn=<AddBackward0>)"
            ]
          },
          "metadata": {},
          "execution_count": 83
        }
      ]
    },
    {
      "cell_type": "markdown",
      "source": [
        "Matrix multiplication"
      ],
      "metadata": {
        "id": "noqfR7Ov43_E"
      }
    },
    {
      "cell_type": "code",
      "source": [
        "def linear1(xb): return xb@weights + bias\n",
        "preds = linear1(train_x)\n",
        "preds"
      ],
      "metadata": {
        "colab": {
          "base_uri": "https://localhost:8080/"
        },
        "id": "QxzcHmjW45sZ",
        "outputId": "17d00258-aef9-437b-f23d-ed6f02f57ffe"
      },
      "execution_count": 84,
      "outputs": [
        {
          "output_type": "execute_result",
          "data": {
            "text/plain": [
              "tensor([[-15.0616],\n",
              "        [-14.2255],\n",
              "        [-14.3161],\n",
              "        ...,\n",
              "        [  4.1170],\n",
              "        [  6.6990],\n",
              "        [ -4.7197]], grad_fn=<AddBackward0>)"
            ]
          },
          "metadata": {},
          "execution_count": 84
        }
      ]
    },
    {
      "cell_type": "code",
      "source": [
        "corrects = (preds>0.0).float() == train_y\n",
        "corrects"
      ],
      "metadata": {
        "colab": {
          "base_uri": "https://localhost:8080/"
        },
        "id": "ByXBbCb35Y9z",
        "outputId": "37f36aaf-fe80-4ffb-fd61-d52e097b52b7"
      },
      "execution_count": 91,
      "outputs": [
        {
          "output_type": "execute_result",
          "data": {
            "text/plain": [
              "tensor([[False],\n",
              "        [False],\n",
              "        [False],\n",
              "        ...,\n",
              "        [False],\n",
              "        [False],\n",
              "        [ True]])"
            ]
          },
          "metadata": {},
          "execution_count": 91
        }
      ]
    },
    {
      "cell_type": "code",
      "source": [
        "corrects.float().mean().item()"
      ],
      "metadata": {
        "colab": {
          "base_uri": "https://localhost:8080/"
        },
        "id": "4pfJTnyh5p60",
        "outputId": "398d77b1-5a31-4154-ed0c-766a0d27adb3"
      },
      "execution_count": 93,
      "outputs": [
        {
          "output_type": "execute_result",
          "data": {
            "text/plain": [
              "0.38520491123199463"
            ]
          },
          "metadata": {},
          "execution_count": 93
        }
      ]
    },
    {
      "cell_type": "code",
      "source": [
        "weight_clone = weights[0].clone()\n",
        "weight_clone *= 1.0001\n",
        "preds = linear1(train_x)\n",
        "((preds>0.0).float() == train_y).float().mean().item()"
      ],
      "metadata": {
        "colab": {
          "base_uri": "https://localhost:8080/"
        },
        "id": "GIJPBRpW50OK",
        "outputId": "6273a704-916b-4f49-9f2f-42564e1ce911"
      },
      "execution_count": 92,
      "outputs": [
        {
          "output_type": "execute_result",
          "data": {
            "text/plain": [
              "0.38520491123199463"
            ]
          },
          "metadata": {},
          "execution_count": 92
        }
      ]
    },
    {
      "cell_type": "code",
      "source": [
        "def mnist_loss(predictions, targets):\n",
        "  \"\"\"If target==1, returns how far from 1 the prediction is, else returns how far it is from 0\"\"\"\n",
        "  return torch.where(targets==1, 1-predictions, predictions).mean()"
      ],
      "metadata": {
        "id": "DP9dhR0R-6Sz"
      },
      "execution_count": 98,
      "outputs": []
    },
    {
      "cell_type": "code",
      "source": [
        "trgts = tensor([1,0,1])\n",
        "prds = tensor([0.9, 0.4, 0.2])\n",
        "torch.where(trgts==1, 1-prds, prds)"
      ],
      "metadata": {
        "colab": {
          "base_uri": "https://localhost:8080/"
        },
        "id": "QXWVkniqmOfO",
        "outputId": "aa3b0b94-a3a9-4e09-a54e-9df8c3dd8f38"
      },
      "execution_count": 96,
      "outputs": [
        {
          "output_type": "execute_result",
          "data": {
            "text/plain": [
              "tensor([0.1000, 0.4000, 0.8000])"
            ]
          },
          "metadata": {},
          "execution_count": 96
        }
      ]
    },
    {
      "cell_type": "code",
      "source": [
        "mnist_loss(prds, trgts)"
      ],
      "metadata": {
        "colab": {
          "base_uri": "https://localhost:8080/"
        },
        "id": "90zN9jGomWmS",
        "outputId": "19a0718f-068f-488d-b439-a172c29c92f5"
      },
      "execution_count": 97,
      "outputs": [
        {
          "output_type": "execute_result",
          "data": {
            "text/plain": [
              "tensor(0.4333)"
            ]
          },
          "metadata": {},
          "execution_count": 97
        }
      ]
    },
    {
      "cell_type": "markdown",
      "source": [
        "Sigmoid"
      ],
      "metadata": {
        "id": "FgxdDgmcmv2i"
      }
    },
    {
      "cell_type": "code",
      "source": [],
      "metadata": {
        "id": "pWlDuBvsmw9M"
      },
      "execution_count": null,
      "outputs": []
    }
  ]
}