{
  "nbformat": 4,
  "nbformat_minor": 0,
  "metadata": {
    "colab": {
      "name": "digit_classifier.ipynb",
      "provenance": [],
      "authorship_tag": "ABX9TyOxbx34C2GLpL288jFfpMS8",
      "include_colab_link": true
    },
    "kernelspec": {
      "name": "python3",
      "display_name": "Python 3"
    },
    "language_info": {
      "name": "python"
    }
  },
  "cells": [
    {
      "cell_type": "markdown",
      "metadata": {
        "id": "view-in-github",
        "colab_type": "text"
      },
      "source": [
        "<a href=\"https://colab.research.google.com/github/willschlitzer/fastai_lessons/blob/main/digit_classifier.ipynb\" target=\"_parent\"><img src=\"https://colab.research.google.com/assets/colab-badge.svg\" alt=\"Open In Colab\"/></a>"
      ]
    },
    {
      "cell_type": "code",
      "execution_count": 1,
      "metadata": {
        "id": "OpSmrAL1I95m",
        "colab": {
          "base_uri": "https://localhost:8080/"
        },
        "outputId": "f2c370ee-4652-4240-c022-5f201a49c49c"
      },
      "outputs": [
        {
          "output_type": "stream",
          "name": "stdout",
          "text": [
            "Looking in indexes: https://pypi.org/simple, https://us-python.pkg.dev/colab-wheels/public/simple/\n",
            "Requirement already satisfied: fastai in /usr/local/lib/python3.7/dist-packages (2.7.9)\n",
            "Requirement already satisfied: packaging in /usr/local/lib/python3.7/dist-packages (from fastai) (21.3)\n",
            "Requirement already satisfied: pandas in /usr/local/lib/python3.7/dist-packages (from fastai) (1.3.5)\n",
            "Requirement already satisfied: fastprogress>=0.2.4 in /usr/local/lib/python3.7/dist-packages (from fastai) (1.0.3)\n",
            "Requirement already satisfied: pillow>6.0.0 in /usr/local/lib/python3.7/dist-packages (from fastai) (7.1.2)\n",
            "Requirement already satisfied: pyyaml in /usr/local/lib/python3.7/dist-packages (from fastai) (6.0)\n",
            "Requirement already satisfied: matplotlib in /usr/local/lib/python3.7/dist-packages (from fastai) (3.2.2)\n",
            "Requirement already satisfied: torch<1.14,>=1.7 in /usr/local/lib/python3.7/dist-packages (from fastai) (1.12.1+cu113)\n",
            "Requirement already satisfied: fastcore<1.6,>=1.4.5 in /usr/local/lib/python3.7/dist-packages (from fastai) (1.5.21)\n",
            "Requirement already satisfied: scikit-learn in /usr/local/lib/python3.7/dist-packages (from fastai) (1.0.2)\n",
            "Requirement already satisfied: scipy in /usr/local/lib/python3.7/dist-packages (from fastai) (1.7.3)\n",
            "Requirement already satisfied: pip in /usr/local/lib/python3.7/dist-packages (from fastai) (21.1.3)\n",
            "Requirement already satisfied: torchvision>=0.8.2 in /usr/local/lib/python3.7/dist-packages (from fastai) (0.13.1+cu113)\n",
            "Requirement already satisfied: spacy<4 in /usr/local/lib/python3.7/dist-packages (from fastai) (3.4.1)\n",
            "Requirement already satisfied: fastdownload<2,>=0.0.5 in /usr/local/lib/python3.7/dist-packages (from fastai) (0.0.7)\n",
            "Requirement already satisfied: requests in /usr/local/lib/python3.7/dist-packages (from fastai) (2.23.0)\n",
            "Requirement already satisfied: langcodes<4.0.0,>=3.2.0 in /usr/local/lib/python3.7/dist-packages (from spacy<4->fastai) (3.3.0)\n",
            "Requirement already satisfied: typing-extensions<4.2.0,>=3.7.4 in /usr/local/lib/python3.7/dist-packages (from spacy<4->fastai) (4.1.1)\n",
            "Requirement already satisfied: wasabi<1.1.0,>=0.9.1 in /usr/local/lib/python3.7/dist-packages (from spacy<4->fastai) (0.10.1)\n",
            "Requirement already satisfied: murmurhash<1.1.0,>=0.28.0 in /usr/local/lib/python3.7/dist-packages (from spacy<4->fastai) (1.0.8)\n",
            "Requirement already satisfied: numpy>=1.15.0 in /usr/local/lib/python3.7/dist-packages (from spacy<4->fastai) (1.21.6)\n",
            "Requirement already satisfied: thinc<8.2.0,>=8.1.0 in /usr/local/lib/python3.7/dist-packages (from spacy<4->fastai) (8.1.0)\n",
            "Requirement already satisfied: srsly<3.0.0,>=2.4.3 in /usr/local/lib/python3.7/dist-packages (from spacy<4->fastai) (2.4.4)\n",
            "Requirement already satisfied: pydantic!=1.8,!=1.8.1,<1.10.0,>=1.7.4 in /usr/local/lib/python3.7/dist-packages (from spacy<4->fastai) (1.9.2)\n",
            "Requirement already satisfied: setuptools in /usr/local/lib/python3.7/dist-packages (from spacy<4->fastai) (57.4.0)\n",
            "Requirement already satisfied: jinja2 in /usr/local/lib/python3.7/dist-packages (from spacy<4->fastai) (2.11.3)\n",
            "Requirement already satisfied: cymem<2.1.0,>=2.0.2 in /usr/local/lib/python3.7/dist-packages (from spacy<4->fastai) (2.0.6)\n",
            "Requirement already satisfied: tqdm<5.0.0,>=4.38.0 in /usr/local/lib/python3.7/dist-packages (from spacy<4->fastai) (4.64.0)\n",
            "Requirement already satisfied: spacy-loggers<2.0.0,>=1.0.0 in /usr/local/lib/python3.7/dist-packages (from spacy<4->fastai) (1.0.3)\n",
            "Requirement already satisfied: preshed<3.1.0,>=3.0.2 in /usr/local/lib/python3.7/dist-packages (from spacy<4->fastai) (3.0.7)\n",
            "Requirement already satisfied: pathy>=0.3.5 in /usr/local/lib/python3.7/dist-packages (from spacy<4->fastai) (0.6.2)\n",
            "Requirement already satisfied: typer<0.5.0,>=0.3.0 in /usr/local/lib/python3.7/dist-packages (from spacy<4->fastai) (0.4.2)\n",
            "Requirement already satisfied: spacy-legacy<3.1.0,>=3.0.9 in /usr/local/lib/python3.7/dist-packages (from spacy<4->fastai) (3.0.10)\n",
            "Requirement already satisfied: catalogue<2.1.0,>=2.0.6 in /usr/local/lib/python3.7/dist-packages (from spacy<4->fastai) (2.0.8)\n",
            "Requirement already satisfied: zipp>=0.5 in /usr/local/lib/python3.7/dist-packages (from catalogue<2.1.0,>=2.0.6->spacy<4->fastai) (3.8.1)\n",
            "Requirement already satisfied: pyparsing!=3.0.5,>=2.0.2 in /usr/local/lib/python3.7/dist-packages (from packaging->fastai) (3.0.9)\n",
            "Requirement already satisfied: smart-open<6.0.0,>=5.2.1 in /usr/local/lib/python3.7/dist-packages (from pathy>=0.3.5->spacy<4->fastai) (5.2.1)\n",
            "Requirement already satisfied: certifi>=2017.4.17 in /usr/local/lib/python3.7/dist-packages (from requests->fastai) (2022.6.15)\n",
            "Requirement already satisfied: urllib3!=1.25.0,!=1.25.1,<1.26,>=1.21.1 in /usr/local/lib/python3.7/dist-packages (from requests->fastai) (1.24.3)\n",
            "Requirement already satisfied: idna<3,>=2.5 in /usr/local/lib/python3.7/dist-packages (from requests->fastai) (2.10)\n",
            "Requirement already satisfied: chardet<4,>=3.0.2 in /usr/local/lib/python3.7/dist-packages (from requests->fastai) (3.0.4)\n",
            "Requirement already satisfied: blis<0.8.0,>=0.7.8 in /usr/local/lib/python3.7/dist-packages (from thinc<8.2.0,>=8.1.0->spacy<4->fastai) (0.7.8)\n",
            "Requirement already satisfied: click<9.0.0,>=7.1.1 in /usr/local/lib/python3.7/dist-packages (from typer<0.5.0,>=0.3.0->spacy<4->fastai) (7.1.2)\n",
            "Requirement already satisfied: MarkupSafe>=0.23 in /usr/local/lib/python3.7/dist-packages (from jinja2->spacy<4->fastai) (2.0.1)\n",
            "Requirement already satisfied: python-dateutil>=2.1 in /usr/local/lib/python3.7/dist-packages (from matplotlib->fastai) (2.8.2)\n",
            "Requirement already satisfied: kiwisolver>=1.0.1 in /usr/local/lib/python3.7/dist-packages (from matplotlib->fastai) (1.4.4)\n",
            "Requirement already satisfied: cycler>=0.10 in /usr/local/lib/python3.7/dist-packages (from matplotlib->fastai) (0.11.0)\n",
            "Requirement already satisfied: six>=1.5 in /usr/local/lib/python3.7/dist-packages (from python-dateutil>=2.1->matplotlib->fastai) (1.15.0)\n",
            "Requirement already satisfied: pytz>=2017.3 in /usr/local/lib/python3.7/dist-packages (from pandas->fastai) (2022.2.1)\n",
            "Requirement already satisfied: threadpoolctl>=2.0.0 in /usr/local/lib/python3.7/dist-packages (from scikit-learn->fastai) (3.1.0)\n",
            "Requirement already satisfied: joblib>=0.11 in /usr/local/lib/python3.7/dist-packages (from scikit-learn->fastai) (1.1.0)\n",
            "Looking in indexes: https://pypi.org/simple, https://us-python.pkg.dev/colab-wheels/public/simple/\n",
            "Collecting fastbook\n",
            "  Downloading fastbook-0.0.28-py3-none-any.whl (719 kB)\n",
            "\u001b[K     |████████████████████████████████| 719 kB 6.7 MB/s \n",
            "\u001b[?25hCollecting transformers\n",
            "  Downloading transformers-4.21.1-py3-none-any.whl (4.7 MB)\n",
            "\u001b[K     |████████████████████████████████| 4.7 MB 64.9 MB/s \n",
            "\u001b[?25hCollecting sentencepiece\n",
            "  Downloading sentencepiece-0.1.97-cp37-cp37m-manylinux_2_17_x86_64.manylinux2014_x86_64.whl (1.3 MB)\n",
            "\u001b[K     |████████████████████████████████| 1.3 MB 57.1 MB/s \n",
            "\u001b[?25hRequirement already satisfied: fastai>=2.6 in /usr/local/lib/python3.7/dist-packages (from fastbook) (2.7.9)\n",
            "Requirement already satisfied: pandas in /usr/local/lib/python3.7/dist-packages (from fastbook) (1.3.5)\n",
            "Collecting datasets\n",
            "  Downloading datasets-2.4.0-py3-none-any.whl (365 kB)\n",
            "\u001b[K     |████████████████████████████████| 365 kB 55.3 MB/s \n",
            "\u001b[?25hRequirement already satisfied: requests in /usr/local/lib/python3.7/dist-packages (from fastbook) (2.23.0)\n",
            "Requirement already satisfied: pip in /usr/local/lib/python3.7/dist-packages (from fastbook) (21.1.3)\n",
            "Requirement already satisfied: packaging in /usr/local/lib/python3.7/dist-packages (from fastbook) (21.3)\n",
            "Requirement already satisfied: graphviz in /usr/local/lib/python3.7/dist-packages (from fastbook) (0.10.1)\n",
            "Requirement already satisfied: spacy<4 in /usr/local/lib/python3.7/dist-packages (from fastai>=2.6->fastbook) (3.4.1)\n",
            "Requirement already satisfied: scikit-learn in /usr/local/lib/python3.7/dist-packages (from fastai>=2.6->fastbook) (1.0.2)\n",
            "Requirement already satisfied: scipy in /usr/local/lib/python3.7/dist-packages (from fastai>=2.6->fastbook) (1.7.3)\n",
            "Requirement already satisfied: fastcore<1.6,>=1.4.5 in /usr/local/lib/python3.7/dist-packages (from fastai>=2.6->fastbook) (1.5.21)\n",
            "Requirement already satisfied: matplotlib in /usr/local/lib/python3.7/dist-packages (from fastai>=2.6->fastbook) (3.2.2)\n",
            "Requirement already satisfied: pyyaml in /usr/local/lib/python3.7/dist-packages (from fastai>=2.6->fastbook) (6.0)\n",
            "Requirement already satisfied: fastdownload<2,>=0.0.5 in /usr/local/lib/python3.7/dist-packages (from fastai>=2.6->fastbook) (0.0.7)\n",
            "Requirement already satisfied: fastprogress>=0.2.4 in /usr/local/lib/python3.7/dist-packages (from fastai>=2.6->fastbook) (1.0.3)\n",
            "Requirement already satisfied: torchvision>=0.8.2 in /usr/local/lib/python3.7/dist-packages (from fastai>=2.6->fastbook) (0.13.1+cu113)\n",
            "Requirement already satisfied: pillow>6.0.0 in /usr/local/lib/python3.7/dist-packages (from fastai>=2.6->fastbook) (7.1.2)\n",
            "Requirement already satisfied: torch<1.14,>=1.7 in /usr/local/lib/python3.7/dist-packages (from fastai>=2.6->fastbook) (1.12.1+cu113)\n",
            "Requirement already satisfied: thinc<8.2.0,>=8.1.0 in /usr/local/lib/python3.7/dist-packages (from spacy<4->fastai>=2.6->fastbook) (8.1.0)\n",
            "Requirement already satisfied: wasabi<1.1.0,>=0.9.1 in /usr/local/lib/python3.7/dist-packages (from spacy<4->fastai>=2.6->fastbook) (0.10.1)\n",
            "Requirement already satisfied: langcodes<4.0.0,>=3.2.0 in /usr/local/lib/python3.7/dist-packages (from spacy<4->fastai>=2.6->fastbook) (3.3.0)\n",
            "Requirement already satisfied: jinja2 in /usr/local/lib/python3.7/dist-packages (from spacy<4->fastai>=2.6->fastbook) (2.11.3)\n",
            "Requirement already satisfied: pydantic!=1.8,!=1.8.1,<1.10.0,>=1.7.4 in /usr/local/lib/python3.7/dist-packages (from spacy<4->fastai>=2.6->fastbook) (1.9.2)\n",
            "Requirement already satisfied: typer<0.5.0,>=0.3.0 in /usr/local/lib/python3.7/dist-packages (from spacy<4->fastai>=2.6->fastbook) (0.4.2)\n",
            "Requirement already satisfied: catalogue<2.1.0,>=2.0.6 in /usr/local/lib/python3.7/dist-packages (from spacy<4->fastai>=2.6->fastbook) (2.0.8)\n",
            "Requirement already satisfied: spacy-legacy<3.1.0,>=3.0.9 in /usr/local/lib/python3.7/dist-packages (from spacy<4->fastai>=2.6->fastbook) (3.0.10)\n",
            "Requirement already satisfied: pathy>=0.3.5 in /usr/local/lib/python3.7/dist-packages (from spacy<4->fastai>=2.6->fastbook) (0.6.2)\n",
            "Requirement already satisfied: setuptools in /usr/local/lib/python3.7/dist-packages (from spacy<4->fastai>=2.6->fastbook) (57.4.0)\n",
            "Requirement already satisfied: cymem<2.1.0,>=2.0.2 in /usr/local/lib/python3.7/dist-packages (from spacy<4->fastai>=2.6->fastbook) (2.0.6)\n",
            "Requirement already satisfied: srsly<3.0.0,>=2.4.3 in /usr/local/lib/python3.7/dist-packages (from spacy<4->fastai>=2.6->fastbook) (2.4.4)\n",
            "Requirement already satisfied: murmurhash<1.1.0,>=0.28.0 in /usr/local/lib/python3.7/dist-packages (from spacy<4->fastai>=2.6->fastbook) (1.0.8)\n",
            "Requirement already satisfied: tqdm<5.0.0,>=4.38.0 in /usr/local/lib/python3.7/dist-packages (from spacy<4->fastai>=2.6->fastbook) (4.64.0)\n",
            "Requirement already satisfied: numpy>=1.15.0 in /usr/local/lib/python3.7/dist-packages (from spacy<4->fastai>=2.6->fastbook) (1.21.6)\n",
            "Requirement already satisfied: preshed<3.1.0,>=3.0.2 in /usr/local/lib/python3.7/dist-packages (from spacy<4->fastai>=2.6->fastbook) (3.0.7)\n",
            "Requirement already satisfied: spacy-loggers<2.0.0,>=1.0.0 in /usr/local/lib/python3.7/dist-packages (from spacy<4->fastai>=2.6->fastbook) (1.0.3)\n",
            "Requirement already satisfied: typing-extensions<4.2.0,>=3.7.4 in /usr/local/lib/python3.7/dist-packages (from spacy<4->fastai>=2.6->fastbook) (4.1.1)\n",
            "Requirement already satisfied: zipp>=0.5 in /usr/local/lib/python3.7/dist-packages (from catalogue<2.1.0,>=2.0.6->spacy<4->fastai>=2.6->fastbook) (3.8.1)\n",
            "Requirement already satisfied: pyparsing!=3.0.5,>=2.0.2 in /usr/local/lib/python3.7/dist-packages (from packaging->fastbook) (3.0.9)\n",
            "Requirement already satisfied: smart-open<6.0.0,>=5.2.1 in /usr/local/lib/python3.7/dist-packages (from pathy>=0.3.5->spacy<4->fastai>=2.6->fastbook) (5.2.1)\n",
            "Requirement already satisfied: idna<3,>=2.5 in /usr/local/lib/python3.7/dist-packages (from requests->fastbook) (2.10)\n",
            "Requirement already satisfied: certifi>=2017.4.17 in /usr/local/lib/python3.7/dist-packages (from requests->fastbook) (2022.6.15)\n",
            "Requirement already satisfied: urllib3!=1.25.0,!=1.25.1,<1.26,>=1.21.1 in /usr/local/lib/python3.7/dist-packages (from requests->fastbook) (1.24.3)\n",
            "Requirement already satisfied: chardet<4,>=3.0.2 in /usr/local/lib/python3.7/dist-packages (from requests->fastbook) (3.0.4)\n",
            "Requirement already satisfied: blis<0.8.0,>=0.7.8 in /usr/local/lib/python3.7/dist-packages (from thinc<8.2.0,>=8.1.0->spacy<4->fastai>=2.6->fastbook) (0.7.8)\n",
            "Requirement already satisfied: click<9.0.0,>=7.1.1 in /usr/local/lib/python3.7/dist-packages (from typer<0.5.0,>=0.3.0->spacy<4->fastai>=2.6->fastbook) (7.1.2)\n",
            "Collecting xxhash\n",
            "  Downloading xxhash-3.0.0-cp37-cp37m-manylinux_2_17_x86_64.manylinux2014_x86_64.whl (212 kB)\n",
            "\u001b[K     |████████████████████████████████| 212 kB 52.0 MB/s \n",
            "\u001b[?25hCollecting responses<0.19\n",
            "  Downloading responses-0.18.0-py3-none-any.whl (38 kB)\n",
            "Collecting multiprocess\n",
            "  Downloading multiprocess-0.70.13-py37-none-any.whl (115 kB)\n",
            "\u001b[K     |████████████████████████████████| 115 kB 59.3 MB/s \n",
            "\u001b[?25hRequirement already satisfied: pyarrow>=6.0.0 in /usr/local/lib/python3.7/dist-packages (from datasets->fastbook) (6.0.1)\n",
            "Requirement already satisfied: fsspec[http]>=2021.11.1 in /usr/local/lib/python3.7/dist-packages (from datasets->fastbook) (2022.7.1)\n",
            "Requirement already satisfied: dill<0.3.6 in /usr/local/lib/python3.7/dist-packages (from datasets->fastbook) (0.3.5.1)\n",
            "Requirement already satisfied: importlib-metadata in /usr/local/lib/python3.7/dist-packages (from datasets->fastbook) (4.12.0)\n",
            "Requirement already satisfied: aiohttp in /usr/local/lib/python3.7/dist-packages (from datasets->fastbook) (3.8.1)\n",
            "Collecting huggingface-hub<1.0.0,>=0.1.0\n",
            "  Downloading huggingface_hub-0.8.1-py3-none-any.whl (101 kB)\n",
            "\u001b[K     |████████████████████████████████| 101 kB 14.8 MB/s \n",
            "\u001b[?25hRequirement already satisfied: filelock in /usr/local/lib/python3.7/dist-packages (from huggingface-hub<1.0.0,>=0.1.0->datasets->fastbook) (3.8.0)\n",
            "Collecting urllib3!=1.25.0,!=1.25.1,<1.26,>=1.21.1\n",
            "  Downloading urllib3-1.25.11-py2.py3-none-any.whl (127 kB)\n",
            "\u001b[K     |████████████████████████████████| 127 kB 65.2 MB/s \n",
            "\u001b[?25hRequirement already satisfied: aiosignal>=1.1.2 in /usr/local/lib/python3.7/dist-packages (from aiohttp->datasets->fastbook) (1.2.0)\n",
            "Requirement already satisfied: multidict<7.0,>=4.5 in /usr/local/lib/python3.7/dist-packages (from aiohttp->datasets->fastbook) (6.0.2)\n",
            "Requirement already satisfied: frozenlist>=1.1.1 in /usr/local/lib/python3.7/dist-packages (from aiohttp->datasets->fastbook) (1.3.1)\n",
            "Requirement already satisfied: async-timeout<5.0,>=4.0.0a3 in /usr/local/lib/python3.7/dist-packages (from aiohttp->datasets->fastbook) (4.0.2)\n",
            "Requirement already satisfied: yarl<2.0,>=1.0 in /usr/local/lib/python3.7/dist-packages (from aiohttp->datasets->fastbook) (1.8.1)\n",
            "Requirement already satisfied: asynctest==0.13.0 in /usr/local/lib/python3.7/dist-packages (from aiohttp->datasets->fastbook) (0.13.0)\n",
            "Requirement already satisfied: attrs>=17.3.0 in /usr/local/lib/python3.7/dist-packages (from aiohttp->datasets->fastbook) (22.1.0)\n",
            "Requirement already satisfied: charset-normalizer<3.0,>=2.0 in /usr/local/lib/python3.7/dist-packages (from aiohttp->datasets->fastbook) (2.1.0)\n",
            "Requirement already satisfied: MarkupSafe>=0.23 in /usr/local/lib/python3.7/dist-packages (from jinja2->spacy<4->fastai>=2.6->fastbook) (2.0.1)\n",
            "Requirement already satisfied: cycler>=0.10 in /usr/local/lib/python3.7/dist-packages (from matplotlib->fastai>=2.6->fastbook) (0.11.0)\n",
            "Requirement already satisfied: python-dateutil>=2.1 in /usr/local/lib/python3.7/dist-packages (from matplotlib->fastai>=2.6->fastbook) (2.8.2)\n",
            "Requirement already satisfied: kiwisolver>=1.0.1 in /usr/local/lib/python3.7/dist-packages (from matplotlib->fastai>=2.6->fastbook) (1.4.4)\n",
            "Requirement already satisfied: six>=1.5 in /usr/local/lib/python3.7/dist-packages (from python-dateutil>=2.1->matplotlib->fastai>=2.6->fastbook) (1.15.0)\n",
            "Requirement already satisfied: pytz>=2017.3 in /usr/local/lib/python3.7/dist-packages (from pandas->fastbook) (2022.2.1)\n",
            "Requirement already satisfied: joblib>=0.11 in /usr/local/lib/python3.7/dist-packages (from scikit-learn->fastai>=2.6->fastbook) (1.1.0)\n",
            "Requirement already satisfied: threadpoolctl>=2.0.0 in /usr/local/lib/python3.7/dist-packages (from scikit-learn->fastai>=2.6->fastbook) (3.1.0)\n",
            "Requirement already satisfied: regex!=2019.12.17 in /usr/local/lib/python3.7/dist-packages (from transformers->fastbook) (2022.6.2)\n",
            "Collecting tokenizers!=0.11.3,<0.13,>=0.11.1\n",
            "  Downloading tokenizers-0.12.1-cp37-cp37m-manylinux_2_12_x86_64.manylinux2010_x86_64.whl (6.6 MB)\n",
            "\u001b[K     |████████████████████████████████| 6.6 MB 41.3 MB/s \n",
            "\u001b[?25hInstalling collected packages: urllib3, xxhash, tokenizers, responses, multiprocess, huggingface-hub, transformers, sentencepiece, datasets, fastbook\n",
            "  Attempting uninstall: urllib3\n",
            "    Found existing installation: urllib3 1.24.3\n",
            "    Uninstalling urllib3-1.24.3:\n",
            "      Successfully uninstalled urllib3-1.24.3\n",
            "Successfully installed datasets-2.4.0 fastbook-0.0.28 huggingface-hub-0.8.1 multiprocess-0.70.13 responses-0.18.0 sentencepiece-0.1.97 tokenizers-0.12.1 transformers-4.21.1 urllib3-1.25.11 xxhash-3.0.0\n"
          ]
        }
      ],
      "source": [
        "!pip install fastai\n",
        "!pip install fastbook"
      ]
    },
    {
      "cell_type": "code",
      "source": [
        "from fastbook import *\n",
        "from fastai.vision.all import *"
      ],
      "metadata": {
        "id": "asChsW_SJD_n"
      },
      "execution_count": 2,
      "outputs": []
    },
    {
      "cell_type": "code",
      "source": [
        "# Get MNIST samples\n",
        "path = untar_data(URLs.MNIST_SAMPLE)"
      ],
      "metadata": {
        "id": "ZAJNMUAmJJSv",
        "colab": {
          "base_uri": "https://localhost:8080/",
          "height": 37
        },
        "outputId": "072da9d8-8fab-4b09-e203-6fda12b1e201"
      },
      "execution_count": 3,
      "outputs": [
        {
          "output_type": "display_data",
          "data": {
            "text/plain": [
              "<IPython.core.display.HTML object>"
            ],
            "text/html": [
              "\n",
              "<style>\n",
              "    /* Turns off some styling */\n",
              "    progress {\n",
              "        /* gets rid of default border in Firefox and Opera. */\n",
              "        border: none;\n",
              "        /* Needs to be in here for Safari polyfill so background images work as expected. */\n",
              "        background-size: auto;\n",
              "    }\n",
              "    progress:not([value]), progress:not([value])::-webkit-progress-bar {\n",
              "        background: repeating-linear-gradient(45deg, #7e7e7e, #7e7e7e 10px, #5c5c5c 10px, #5c5c5c 20px);\n",
              "    }\n",
              "    .progress-bar-interrupted, .progress-bar-interrupted::-webkit-progress-bar {\n",
              "        background: #F44336;\n",
              "    }\n",
              "</style>\n"
            ]
          },
          "metadata": {}
        },
        {
          "output_type": "display_data",
          "data": {
            "text/plain": [
              "<IPython.core.display.HTML object>"
            ],
            "text/html": [
              "\n",
              "    <div>\n",
              "      <progress value='3219456' class='' max='3214948' style='width:300px; height:20px; vertical-align: middle;'></progress>\n",
              "      100.14% [3219456/3214948 00:00&lt;00:00]\n",
              "    </div>\n",
              "    "
            ]
          },
          "metadata": {}
        }
      ]
    },
    {
      "cell_type": "code",
      "source": [
        "path.ls()"
      ],
      "metadata": {
        "colab": {
          "base_uri": "https://localhost:8080/"
        },
        "id": "alVdJ99DJS43",
        "outputId": "8872d011-7b13-4b2d-f33f-f691a03ea102"
      },
      "execution_count": 4,
      "outputs": [
        {
          "output_type": "execute_result",
          "data": {
            "text/plain": [
              "(#3) [Path('/root/.fastai/data/mnist_sample/labels.csv'),Path('/root/.fastai/data/mnist_sample/train'),Path('/root/.fastai/data/mnist_sample/valid')]"
            ]
          },
          "metadata": {},
          "execution_count": 4
        }
      ]
    },
    {
      "cell_type": "code",
      "source": [
        "(path/'train').ls()"
      ],
      "metadata": {
        "colab": {
          "base_uri": "https://localhost:8080/"
        },
        "id": "N5iSxRKfJYDm",
        "outputId": "557c3619-6c23-424f-d1f1-aaa087dec3f6"
      },
      "execution_count": 5,
      "outputs": [
        {
          "output_type": "execute_result",
          "data": {
            "text/plain": [
              "(#2) [Path('/root/.fastai/data/mnist_sample/train/7'),Path('/root/.fastai/data/mnist_sample/train/3')]"
            ]
          },
          "metadata": {},
          "execution_count": 5
        }
      ]
    },
    {
      "cell_type": "code",
      "source": [
        "# Create a list of the png files for 3 and 7\n",
        "threes = (path/'train'/'3').ls().sorted()\n",
        "sevens = (path/'train'/'7').ls().sorted()\n",
        "threes"
      ],
      "metadata": {
        "colab": {
          "base_uri": "https://localhost:8080/"
        },
        "id": "_rQFgYIeJiYH",
        "outputId": "727bc08d-8420-482e-aca2-551087ff7570"
      },
      "execution_count": 6,
      "outputs": [
        {
          "output_type": "execute_result",
          "data": {
            "text/plain": [
              "(#6131) [Path('/root/.fastai/data/mnist_sample/train/3/10.png'),Path('/root/.fastai/data/mnist_sample/train/3/10000.png'),Path('/root/.fastai/data/mnist_sample/train/3/10011.png'),Path('/root/.fastai/data/mnist_sample/train/3/10031.png'),Path('/root/.fastai/data/mnist_sample/train/3/10034.png'),Path('/root/.fastai/data/mnist_sample/train/3/10042.png'),Path('/root/.fastai/data/mnist_sample/train/3/10052.png'),Path('/root/.fastai/data/mnist_sample/train/3/1007.png'),Path('/root/.fastai/data/mnist_sample/train/3/10074.png'),Path('/root/.fastai/data/mnist_sample/train/3/10091.png')...]"
            ]
          },
          "metadata": {},
          "execution_count": 6
        }
      ]
    },
    {
      "cell_type": "code",
      "source": [
        "# Open an image in the \"3\" category\n",
        "im3_path = threes[1]\n",
        "im3 = Image.open(im3_path)\n",
        "im3"
      ],
      "metadata": {
        "colab": {
          "base_uri": "https://localhost:8080/",
          "height": 45
        },
        "id": "kIsi45TaJ3qG",
        "outputId": "4a4f1a9a-554d-40b7-ac7b-15bab4ac9dcc"
      },
      "execution_count": 7,
      "outputs": [
        {
          "output_type": "execute_result",
          "data": {
            "text/plain": [
              "<PIL.PngImagePlugin.PngImageFile image mode=L size=28x28>"
            ],
            "image/png": "[encoded data removed]"
          },
          "metadata": {},
          "execution_count": 7
        }
      ]
    },
    {
      "cell_type": "markdown",
      "source": [
        "numpy array of the image\n",
        "\n",
        "\n"
      ],
      "metadata": {
        "id": "y_-X4rJxK1ZX"
      }
    },
    {
      "cell_type": "code",
      "source": [
        "# Display a portion of the image as a numpy array\n",
        "array(im3)[4:10, 4:10]"
      ],
      "metadata": {
        "colab": {
          "base_uri": "https://localhost:8080/"
        },
        "id": "sc5zGTbTKPaW",
        "outputId": "0e3feabc-9a8c-412a-cb20-17a058231307"
      },
      "execution_count": 8,
      "outputs": [
        {
          "output_type": "execute_result",
          "data": {
            "text/plain": [
              "array([[  0,   0,   0,   0,   0,   0],\n",
              "       [  0,   0,   0,   0,   0,  29],\n",
              "       [  0,   0,   0,  48, 166, 224],\n",
              "       [  0,  93, 244, 249, 253, 187],\n",
              "       [  0, 107, 253, 253, 230,  48],\n",
              "       [  0,   3,  20,  20,  15,   0]], dtype=uint8)"
            ]
          },
          "metadata": {},
          "execution_count": 8
        }
      ]
    },
    {
      "cell_type": "code",
      "source": [
        "# Create a dataframe from a tensor of the image\n",
        "im3_t = tensor(im3)\n",
        "df = pd.DataFrame(im3_t[4:15,4:22])\n",
        "df.style.set_properties(**{'font-size':'6pt'}).background_gradient('Greys')\n"
      ],
      "metadata": {
        "colab": {
          "base_uri": "https://localhost:8080/",
          "height": 394
        },
        "id": "w1BYW0FmKoFd",
        "outputId": "0b00892e-1c5c-4e22-d1ef-2299336375bc"
      },
      "execution_count": 9,
      "outputs": [
        {
          "output_type": "execute_result",
          "data": {
            "text/plain": [
              "<pandas.io.formats.style.Styler at 0x7ff7e50ce410>"
            ],
            "text/html": [
              "<style type=\"text/css\">\n",
              "#T_59bab_row0_col0, #T_59bab_row0_col1, #T_59bab_row0_col2, #T_59bab_row0_col3, #T_59bab_row0_col4, #T_59bab_row0_col5, #T_59bab_row0_col6, #T_59bab_row0_col7, #T_59bab_row0_col8, #T_59bab_row0_col9, #T_59bab_row0_col10, #T_59bab_row0_col11, #T_59bab_row0_col12, #T_59bab_row0_col13, #T_59bab_row0_col14, #T_59bab_row0_col15, #T_59bab_row0_col16, #T_59bab_row0_col17, #T_59bab_row1_col0, #T_59bab_row1_col1, #T_59bab_row1_col2, #T_59bab_row1_col3, #T_59bab_row1_col4, #T_59bab_row1_col15, #T_59bab_row1_col16, #T_59bab_row1_col17, #T_59bab_row2_col0, #T_59bab_row2_col1, #T_59bab_row2_col2, #T_59bab_row2_col15, #T_59bab_row2_col16, #T_59bab_row2_col17, #T_59bab_row3_col0, #T_59bab_row3_col15, #T_59bab_row3_col16, #T_59bab_row3_col17, #T_59bab_row4_col0, #T_59bab_row4_col6, #T_59bab_row4_col7, #T_59bab_row4_col8, #T_59bab_row4_col9, #T_59bab_row4_col10, #T_59bab_row4_col15, #T_59bab_row4_col16, #T_59bab_row4_col17, #T_59bab_row5_col0, #T_59bab_row5_col5, #T_59bab_row5_col6, #T_59bab_row5_col7, #T_59bab_row5_col8, #T_59bab_row5_col9, #T_59bab_row5_col15, #T_59bab_row5_col16, #T_59bab_row5_col17, #T_59bab_row6_col0, #T_59bab_row6_col1, #T_59bab_row6_col2, #T_59bab_row6_col3, #T_59bab_row6_col4, #T_59bab_row6_col5, #T_59bab_row6_col6, #T_59bab_row6_col7, #T_59bab_row6_col8, #T_59bab_row6_col9, #T_59bab_row6_col14, #T_59bab_row6_col15, #T_59bab_row6_col16, #T_59bab_row6_col17, #T_59bab_row7_col0, #T_59bab_row7_col1, #T_59bab_row7_col2, #T_59bab_row7_col3, #T_59bab_row7_col4, #T_59bab_row7_col5, #T_59bab_row7_col6, #T_59bab_row7_col13, #T_59bab_row7_col14, #T_59bab_row7_col15, #T_59bab_row7_col16, #T_59bab_row7_col17, #T_59bab_row8_col0, #T_59bab_row8_col1, #T_59bab_row8_col2, #T_59bab_row8_col3, #T_59bab_row8_col4, #T_59bab_row8_col13, #T_59bab_row8_col14, #T_59bab_row8_col15, #T_59bab_row8_col16, #T_59bab_row8_col17, #T_59bab_row9_col0, #T_59bab_row9_col1, #T_59bab_row9_col2, #T_59bab_row9_col3, #T_59bab_row9_col4, #T_59bab_row9_col16, #T_59bab_row9_col17, #T_59bab_row10_col0, #T_59bab_row10_col1, #T_59bab_row10_col2, #T_59bab_row10_col3, #T_59bab_row10_col4, #T_59bab_row10_col5, #T_59bab_row10_col6, #T_59bab_row10_col17 {\n",
              "  font-size: 6pt;\n",
              "  background-color: #ffffff;\n",
              "  color: #000000;\n",
              "}\n",
              "#T_59bab_row1_col5 {\n",
              "  font-size: 6pt;\n",
              "  background-color: #efefef;\n",
              "  color: #000000;\n",
              "}\n",
              "#T_59bab_row1_col6, #T_59bab_row1_col13 {\n",
              "  font-size: 6pt;\n",
              "  background-color: #7c7c7c;\n",
              "  color: #f1f1f1;\n",
              "}\n",
              "#T_59bab_row1_col7 {\n",
              "  font-size: 6pt;\n",
              "  background-color: #4a4a4a;\n",
              "  color: #f1f1f1;\n",
              "}\n",
              "#T_59bab_row1_col8, #T_59bab_row1_col9, #T_59bab_row1_col10, #T_59bab_row2_col5, #T_59bab_row2_col6, #T_59bab_row2_col7, #T_59bab_row2_col11, #T_59bab_row2_col12, #T_59bab_row2_col13, #T_59bab_row3_col4, #T_59bab_row3_col12, #T_59bab_row3_col13, #T_59bab_row4_col1, #T_59bab_row4_col2, #T_59bab_row4_col3, #T_59bab_row4_col12, #T_59bab_row4_col13, #T_59bab_row5_col12, #T_59bab_row6_col11, #T_59bab_row9_col11, #T_59bab_row10_col11, #T_59bab_row10_col12, #T_59bab_row10_col13, #T_59bab_row10_col14, #T_59bab_row10_col15, #T_59bab_row10_col16 {\n",
              "  font-size: 6pt;\n",
              "  background-color: #000000;\n",
              "  color: #f1f1f1;\n",
              "}\n",
              "#T_59bab_row1_col11 {\n",
              "  font-size: 6pt;\n",
              "  background-color: #606060;\n",
              "  color: #f1f1f1;\n",
              "}\n",
              "#T_59bab_row1_col12 {\n",
              "  font-size: 6pt;\n",
              "  background-color: #4d4d4d;\n",
              "  color: #f1f1f1;\n",
              "}\n",
              "#T_59bab_row1_col14 {\n",
              "  font-size: 6pt;\n",
              "  background-color: #bbbbbb;\n",
              "  color: #000000;\n",
              "}\n",
              "#T_59bab_row2_col3 {\n",
              "  font-size: 6pt;\n",
              "  background-color: #e4e4e4;\n",
              "  color: #000000;\n",
              "}\n",
              "#T_59bab_row2_col4, #T_59bab_row8_col6 {\n",
              "  font-size: 6pt;\n",
              "  background-color: #6b6b6b;\n",
              "  color: #f1f1f1;\n",
              "}\n",
              "#T_59bab_row2_col8, #T_59bab_row2_col14, #T_59bab_row3_col14 {\n",
              "  font-size: 6pt;\n",
              "  background-color: #171717;\n",
              "  color: #f1f1f1;\n",
              "}\n",
              "#T_59bab_row2_col9, #T_59bab_row3_col11 {\n",
              "  font-size: 6pt;\n",
              "  background-color: #4b4b4b;\n",
              "  color: #f1f1f1;\n",
              "}\n",
              "#T_59bab_row2_col10, #T_59bab_row7_col10, #T_59bab_row8_col8, #T_59bab_row8_col10, #T_59bab_row9_col8, #T_59bab_row9_col10 {\n",
              "  font-size: 6pt;\n",
              "  background-color: #010101;\n",
              "  color: #f1f1f1;\n",
              "}\n",
              "#T_59bab_row3_col1 {\n",
              "  font-size: 6pt;\n",
              "  background-color: #272727;\n",
              "  color: #f1f1f1;\n",
              "}\n",
              "#T_59bab_row3_col2 {\n",
              "  font-size: 6pt;\n",
              "  background-color: #0a0a0a;\n",
              "  color: #f1f1f1;\n",
              "}\n",
              "#T_59bab_row3_col3 {\n",
              "  font-size: 6pt;\n",
              "  background-color: #050505;\n",
              "  color: #f1f1f1;\n",
              "}\n",
              "#T_59bab_row3_col5 {\n",
              "  font-size: 6pt;\n",
              "  background-color: #333333;\n",
              "  color: #f1f1f1;\n",
              "}\n",
              "#T_59bab_row3_col6 {\n",
              "  font-size: 6pt;\n",
              "  background-color: #e6e6e6;\n",
              "  color: #000000;\n",
              "}\n",
              "#T_59bab_row3_col7, #T_59bab_row3_col10 {\n",
              "  font-size: 6pt;\n",
              "  background-color: #fafafa;\n",
              "  color: #000000;\n",
              "}\n",
              "#T_59bab_row3_col8 {\n",
              "  font-size: 6pt;\n",
              "  background-color: #fbfbfb;\n",
              "  color: #000000;\n",
              "}\n",
              "#T_59bab_row3_col9 {\n",
              "  font-size: 6pt;\n",
              "  background-color: #fdfdfd;\n",
              "  color: #000000;\n",
              "}\n",
              "#T_59bab_row4_col4 {\n",
              "  font-size: 6pt;\n",
              "  background-color: #1b1b1b;\n",
              "  color: #f1f1f1;\n",
              "}\n",
              "#T_59bab_row4_col5 {\n",
              "  font-size: 6pt;\n",
              "  background-color: #e0e0e0;\n",
              "  color: #000000;\n",
              "}\n",
              "#T_59bab_row4_col11 {\n",
              "  font-size: 6pt;\n",
              "  background-color: #4e4e4e;\n",
              "  color: #f1f1f1;\n",
              "}\n",
              "#T_59bab_row4_col14 {\n",
              "  font-size: 6pt;\n",
              "  background-color: #767676;\n",
              "  color: #f1f1f1;\n",
              "}\n",
              "#T_59bab_row5_col1 {\n",
              "  font-size: 6pt;\n",
              "  background-color: #fcfcfc;\n",
              "  color: #000000;\n",
              "}\n",
              "#T_59bab_row5_col2, #T_59bab_row5_col3 {\n",
              "  font-size: 6pt;\n",
              "  background-color: #f6f6f6;\n",
              "  color: #000000;\n",
              "}\n",
              "#T_59bab_row5_col4, #T_59bab_row7_col7 {\n",
              "  font-size: 6pt;\n",
              "  background-color: #f8f8f8;\n",
              "  color: #000000;\n",
              "}\n",
              "#T_59bab_row5_col10, #T_59bab_row10_col7 {\n",
              "  font-size: 6pt;\n",
              "  background-color: #e8e8e8;\n",
              "  color: #000000;\n",
              "}\n",
              "#T_59bab_row5_col11 {\n",
              "  font-size: 6pt;\n",
              "  background-color: #222222;\n",
              "  color: #f1f1f1;\n",
              "}\n",
              "#T_59bab_row5_col13, #T_59bab_row6_col12 {\n",
              "  font-size: 6pt;\n",
              "  background-color: #090909;\n",
              "  color: #f1f1f1;\n",
              "}\n",
              "#T_59bab_row5_col14 {\n",
              "  font-size: 6pt;\n",
              "  background-color: #d0d0d0;\n",
              "  color: #000000;\n",
              "}\n",
              "#T_59bab_row6_col10, #T_59bab_row7_col11, #T_59bab_row9_col6 {\n",
              "  font-size: 6pt;\n",
              "  background-color: #060606;\n",
              "  color: #f1f1f1;\n",
              "}\n",
              "#T_59bab_row6_col13 {\n",
              "  font-size: 6pt;\n",
              "  background-color: #979797;\n",
              "  color: #f1f1f1;\n",
              "}\n",
              "#T_59bab_row7_col8 {\n",
              "  font-size: 6pt;\n",
              "  background-color: #b6b6b6;\n",
              "  color: #000000;\n",
              "}\n",
              "#T_59bab_row7_col9 {\n",
              "  font-size: 6pt;\n",
              "  background-color: #252525;\n",
              "  color: #f1f1f1;\n",
              "}\n",
              "#T_59bab_row7_col12 {\n",
              "  font-size: 6pt;\n",
              "  background-color: #999999;\n",
              "  color: #f1f1f1;\n",
              "}\n",
              "#T_59bab_row8_col5 {\n",
              "  font-size: 6pt;\n",
              "  background-color: #f9f9f9;\n",
              "  color: #000000;\n",
              "}\n",
              "#T_59bab_row8_col7 {\n",
              "  font-size: 6pt;\n",
              "  background-color: #101010;\n",
              "  color: #f1f1f1;\n",
              "}\n",
              "#T_59bab_row8_col9, #T_59bab_row9_col9 {\n",
              "  font-size: 6pt;\n",
              "  background-color: #020202;\n",
              "  color: #f1f1f1;\n",
              "}\n",
              "#T_59bab_row8_col11 {\n",
              "  font-size: 6pt;\n",
              "  background-color: #545454;\n",
              "  color: #f1f1f1;\n",
              "}\n",
              "#T_59bab_row8_col12 {\n",
              "  font-size: 6pt;\n",
              "  background-color: #f1f1f1;\n",
              "  color: #000000;\n",
              "}\n",
              "#T_59bab_row9_col5 {\n",
              "  font-size: 6pt;\n",
              "  background-color: #f7f7f7;\n",
              "  color: #000000;\n",
              "}\n",
              "#T_59bab_row9_col7 {\n",
              "  font-size: 6pt;\n",
              "  background-color: #030303;\n",
              "  color: #f1f1f1;\n",
              "}\n",
              "#T_59bab_row9_col12 {\n",
              "  font-size: 6pt;\n",
              "  background-color: #181818;\n",
              "  color: #f1f1f1;\n",
              "}\n",
              "#T_59bab_row9_col13 {\n",
              "  font-size: 6pt;\n",
              "  background-color: #303030;\n",
              "  color: #f1f1f1;\n",
              "}\n",
              "#T_59bab_row9_col14 {\n",
              "  font-size: 6pt;\n",
              "  background-color: #a9a9a9;\n",
              "  color: #f1f1f1;\n",
              "}\n",
              "#T_59bab_row9_col15 {\n",
              "  font-size: 6pt;\n",
              "  background-color: #fefefe;\n",
              "  color: #000000;\n",
              "}\n",
              "#T_59bab_row10_col8, #T_59bab_row10_col9 {\n",
              "  font-size: 6pt;\n",
              "  background-color: #bababa;\n",
              "  color: #000000;\n",
              "}\n",
              "#T_59bab_row10_col10 {\n",
              "  font-size: 6pt;\n",
              "  background-color: #393939;\n",
              "  color: #f1f1f1;\n",
              "}\n",
              "</style>\n",
              "<table id=\"T_59bab_\" class=\"dataframe\">\n",
              "  <thead>\n",
              "    <tr>\n",
              "      <th class=\"blank level0\" >&nbsp;</th>\n",
              "      <th class=\"col_heading level0 col0\" >0</th>\n",
              "      <th class=\"col_heading level0 col1\" >1</th>\n",
              "      <th class=\"col_heading level0 col2\" >2</th>\n",
              "      <th class=\"col_heading level0 col3\" >3</th>\n",
              "      <th class=\"col_heading level0 col4\" >4</th>\n",
              "      <th class=\"col_heading level0 col5\" >5</th>\n",
              "      <th class=\"col_heading level0 col6\" >6</th>\n",
              "      <th class=\"col_heading level0 col7\" >7</th>\n",
              "      <th class=\"col_heading level0 col8\" >8</th>\n",
              "      <th class=\"col_heading level0 col9\" >9</th>\n",
              "      <th class=\"col_heading level0 col10\" >10</th>\n",
              "      <th class=\"col_heading level0 col11\" >11</th>\n",
              "      <th class=\"col_heading level0 col12\" >12</th>\n",
              "      <th class=\"col_heading level0 col13\" >13</th>\n",
              "      <th class=\"col_heading level0 col14\" >14</th>\n",
              "      <th class=\"col_heading level0 col15\" >15</th>\n",
              "      <th class=\"col_heading level0 col16\" >16</th>\n",
              "      <th class=\"col_heading level0 col17\" >17</th>\n",
              "    </tr>\n",
              "  </thead>\n",
              "  <tbody>\n",
              "    <tr>\n",
              "      <th id=\"T_59bab_level0_row0\" class=\"row_heading level0 row0\" >0</th>\n",
              "      <td id=\"T_59bab_row0_col0\" class=\"data row0 col0\" >0</td>\n",
              "      <td id=\"T_59bab_row0_col1\" class=\"data row0 col1\" >0</td>\n",
              "      <td id=\"T_59bab_row0_col2\" class=\"data row0 col2\" >0</td>\n",
              "      <td id=\"T_59bab_row0_col3\" class=\"data row0 col3\" >0</td>\n",
              "      <td id=\"T_59bab_row0_col4\" class=\"data row0 col4\" >0</td>\n",
              "      <td id=\"T_59bab_row0_col5\" class=\"data row0 col5\" >0</td>\n",
              "      <td id=\"T_59bab_row0_col6\" class=\"data row0 col6\" >0</td>\n",
              "      <td id=\"T_59bab_row0_col7\" class=\"data row0 col7\" >0</td>\n",
              "      <td id=\"T_59bab_row0_col8\" class=\"data row0 col8\" >0</td>\n",
              "      <td id=\"T_59bab_row0_col9\" class=\"data row0 col9\" >0</td>\n",
              "      <td id=\"T_59bab_row0_col10\" class=\"data row0 col10\" >0</td>\n",
              "      <td id=\"T_59bab_row0_col11\" class=\"data row0 col11\" >0</td>\n",
              "      <td id=\"T_59bab_row0_col12\" class=\"data row0 col12\" >0</td>\n",
              "      <td id=\"T_59bab_row0_col13\" class=\"data row0 col13\" >0</td>\n",
              "      <td id=\"T_59bab_row0_col14\" class=\"data row0 col14\" >0</td>\n",
              "      <td id=\"T_59bab_row0_col15\" class=\"data row0 col15\" >0</td>\n",
              "      <td id=\"T_59bab_row0_col16\" class=\"data row0 col16\" >0</td>\n",
              "      <td id=\"T_59bab_row0_col17\" class=\"data row0 col17\" >0</td>\n",
              "    </tr>\n",
              "    <tr>\n",
              "      <th id=\"T_59bab_level0_row1\" class=\"row_heading level0 row1\" >1</th>\n",
              "      <td id=\"T_59bab_row1_col0\" class=\"data row1 col0\" >0</td>\n",
              "      <td id=\"T_59bab_row1_col1\" class=\"data row1 col1\" >0</td>\n",
              "      <td id=\"T_59bab_row1_col2\" class=\"data row1 col2\" >0</td>\n",
              "      <td id=\"T_59bab_row1_col3\" class=\"data row1 col3\" >0</td>\n",
              "      <td id=\"T_59bab_row1_col4\" class=\"data row1 col4\" >0</td>\n",
              "      <td id=\"T_59bab_row1_col5\" class=\"data row1 col5\" >29</td>\n",
              "      <td id=\"T_59bab_row1_col6\" class=\"data row1 col6\" >150</td>\n",
              "      <td id=\"T_59bab_row1_col7\" class=\"data row1 col7\" >195</td>\n",
              "      <td id=\"T_59bab_row1_col8\" class=\"data row1 col8\" >254</td>\n",
              "      <td id=\"T_59bab_row1_col9\" class=\"data row1 col9\" >255</td>\n",
              "      <td id=\"T_59bab_row1_col10\" class=\"data row1 col10\" >254</td>\n",
              "      <td id=\"T_59bab_row1_col11\" class=\"data row1 col11\" >176</td>\n",
              "      <td id=\"T_59bab_row1_col12\" class=\"data row1 col12\" >193</td>\n",
              "      <td id=\"T_59bab_row1_col13\" class=\"data row1 col13\" >150</td>\n",
              "      <td id=\"T_59bab_row1_col14\" class=\"data row1 col14\" >96</td>\n",
              "      <td id=\"T_59bab_row1_col15\" class=\"data row1 col15\" >0</td>\n",
              "      <td id=\"T_59bab_row1_col16\" class=\"data row1 col16\" >0</td>\n",
              "      <td id=\"T_59bab_row1_col17\" class=\"data row1 col17\" >0</td>\n",
              "    </tr>\n",
              "    <tr>\n",
              "      <th id=\"T_59bab_level0_row2\" class=\"row_heading level0 row2\" >2</th>\n",
              "      <td id=\"T_59bab_row2_col0\" class=\"data row2 col0\" >0</td>\n",
              "      <td id=\"T_59bab_row2_col1\" class=\"data row2 col1\" >0</td>\n",
              "      <td id=\"T_59bab_row2_col2\" class=\"data row2 col2\" >0</td>\n",
              "      <td id=\"T_59bab_row2_col3\" class=\"data row2 col3\" >48</td>\n",
              "      <td id=\"T_59bab_row2_col4\" class=\"data row2 col4\" >166</td>\n",
              "      <td id=\"T_59bab_row2_col5\" class=\"data row2 col5\" >224</td>\n",
              "      <td id=\"T_59bab_row2_col6\" class=\"data row2 col6\" >253</td>\n",
              "      <td id=\"T_59bab_row2_col7\" class=\"data row2 col7\" >253</td>\n",
              "      <td id=\"T_59bab_row2_col8\" class=\"data row2 col8\" >234</td>\n",
              "      <td id=\"T_59bab_row2_col9\" class=\"data row2 col9\" >196</td>\n",
              "      <td id=\"T_59bab_row2_col10\" class=\"data row2 col10\" >253</td>\n",
              "      <td id=\"T_59bab_row2_col11\" class=\"data row2 col11\" >253</td>\n",
              "      <td id=\"T_59bab_row2_col12\" class=\"data row2 col12\" >253</td>\n",
              "      <td id=\"T_59bab_row2_col13\" class=\"data row2 col13\" >253</td>\n",
              "      <td id=\"T_59bab_row2_col14\" class=\"data row2 col14\" >233</td>\n",
              "      <td id=\"T_59bab_row2_col15\" class=\"data row2 col15\" >0</td>\n",
              "      <td id=\"T_59bab_row2_col16\" class=\"data row2 col16\" >0</td>\n",
              "      <td id=\"T_59bab_row2_col17\" class=\"data row2 col17\" >0</td>\n",
              "    </tr>\n",
              "    <tr>\n",
              "      <th id=\"T_59bab_level0_row3\" class=\"row_heading level0 row3\" >3</th>\n",
              "      <td id=\"T_59bab_row3_col0\" class=\"data row3 col0\" >0</td>\n",
              "      <td id=\"T_59bab_row3_col1\" class=\"data row3 col1\" >93</td>\n",
              "      <td id=\"T_59bab_row3_col2\" class=\"data row3 col2\" >244</td>\n",
              "      <td id=\"T_59bab_row3_col3\" class=\"data row3 col3\" >249</td>\n",
              "      <td id=\"T_59bab_row3_col4\" class=\"data row3 col4\" >253</td>\n",
              "      <td id=\"T_59bab_row3_col5\" class=\"data row3 col5\" >187</td>\n",
              "      <td id=\"T_59bab_row3_col6\" class=\"data row3 col6\" >46</td>\n",
              "      <td id=\"T_59bab_row3_col7\" class=\"data row3 col7\" >10</td>\n",
              "      <td id=\"T_59bab_row3_col8\" class=\"data row3 col8\" >8</td>\n",
              "      <td id=\"T_59bab_row3_col9\" class=\"data row3 col9\" >4</td>\n",
              "      <td id=\"T_59bab_row3_col10\" class=\"data row3 col10\" >10</td>\n",
              "      <td id=\"T_59bab_row3_col11\" class=\"data row3 col11\" >194</td>\n",
              "      <td id=\"T_59bab_row3_col12\" class=\"data row3 col12\" >253</td>\n",
              "      <td id=\"T_59bab_row3_col13\" class=\"data row3 col13\" >253</td>\n",
              "      <td id=\"T_59bab_row3_col14\" class=\"data row3 col14\" >233</td>\n",
              "      <td id=\"T_59bab_row3_col15\" class=\"data row3 col15\" >0</td>\n",
              "      <td id=\"T_59bab_row3_col16\" class=\"data row3 col16\" >0</td>\n",
              "      <td id=\"T_59bab_row3_col17\" class=\"data row3 col17\" >0</td>\n",
              "    </tr>\n",
              "    <tr>\n",
              "      <th id=\"T_59bab_level0_row4\" class=\"row_heading level0 row4\" >4</th>\n",
              "      <td id=\"T_59bab_row4_col0\" class=\"data row4 col0\" >0</td>\n",
              "      <td id=\"T_59bab_row4_col1\" class=\"data row4 col1\" >107</td>\n",
              "      <td id=\"T_59bab_row4_col2\" class=\"data row4 col2\" >253</td>\n",
              "      <td id=\"T_59bab_row4_col3\" class=\"data row4 col3\" >253</td>\n",
              "      <td id=\"T_59bab_row4_col4\" class=\"data row4 col4\" >230</td>\n",
              "      <td id=\"T_59bab_row4_col5\" class=\"data row4 col5\" >48</td>\n",
              "      <td id=\"T_59bab_row4_col6\" class=\"data row4 col6\" >0</td>\n",
              "      <td id=\"T_59bab_row4_col7\" class=\"data row4 col7\" >0</td>\n",
              "      <td id=\"T_59bab_row4_col8\" class=\"data row4 col8\" >0</td>\n",
              "      <td id=\"T_59bab_row4_col9\" class=\"data row4 col9\" >0</td>\n",
              "      <td id=\"T_59bab_row4_col10\" class=\"data row4 col10\" >0</td>\n",
              "      <td id=\"T_59bab_row4_col11\" class=\"data row4 col11\" >192</td>\n",
              "      <td id=\"T_59bab_row4_col12\" class=\"data row4 col12\" >253</td>\n",
              "      <td id=\"T_59bab_row4_col13\" class=\"data row4 col13\" >253</td>\n",
              "      <td id=\"T_59bab_row4_col14\" class=\"data row4 col14\" >156</td>\n",
              "      <td id=\"T_59bab_row4_col15\" class=\"data row4 col15\" >0</td>\n",
              "      <td id=\"T_59bab_row4_col16\" class=\"data row4 col16\" >0</td>\n",
              "      <td id=\"T_59bab_row4_col17\" class=\"data row4 col17\" >0</td>\n",
              "    </tr>\n",
              "    <tr>\n",
              "      <th id=\"T_59bab_level0_row5\" class=\"row_heading level0 row5\" >5</th>\n",
              "      <td id=\"T_59bab_row5_col0\" class=\"data row5 col0\" >0</td>\n",
              "      <td id=\"T_59bab_row5_col1\" class=\"data row5 col1\" >3</td>\n",
              "      <td id=\"T_59bab_row5_col2\" class=\"data row5 col2\" >20</td>\n",
              "      <td id=\"T_59bab_row5_col3\" class=\"data row5 col3\" >20</td>\n",
              "      <td id=\"T_59bab_row5_col4\" class=\"data row5 col4\" >15</td>\n",
              "      <td id=\"T_59bab_row5_col5\" class=\"data row5 col5\" >0</td>\n",
              "      <td id=\"T_59bab_row5_col6\" class=\"data row5 col6\" >0</td>\n",
              "      <td id=\"T_59bab_row5_col7\" class=\"data row5 col7\" >0</td>\n",
              "      <td id=\"T_59bab_row5_col8\" class=\"data row5 col8\" >0</td>\n",
              "      <td id=\"T_59bab_row5_col9\" class=\"data row5 col9\" >0</td>\n",
              "      <td id=\"T_59bab_row5_col10\" class=\"data row5 col10\" >43</td>\n",
              "      <td id=\"T_59bab_row5_col11\" class=\"data row5 col11\" >224</td>\n",
              "      <td id=\"T_59bab_row5_col12\" class=\"data row5 col12\" >253</td>\n",
              "      <td id=\"T_59bab_row5_col13\" class=\"data row5 col13\" >245</td>\n",
              "      <td id=\"T_59bab_row5_col14\" class=\"data row5 col14\" >74</td>\n",
              "      <td id=\"T_59bab_row5_col15\" class=\"data row5 col15\" >0</td>\n",
              "      <td id=\"T_59bab_row5_col16\" class=\"data row5 col16\" >0</td>\n",
              "      <td id=\"T_59bab_row5_col17\" class=\"data row5 col17\" >0</td>\n",
              "    </tr>\n",
              "    <tr>\n",
              "      <th id=\"T_59bab_level0_row6\" class=\"row_heading level0 row6\" >6</th>\n",
              "      <td id=\"T_59bab_row6_col0\" class=\"data row6 col0\" >0</td>\n",
              "      <td id=\"T_59bab_row6_col1\" class=\"data row6 col1\" >0</td>\n",
              "      <td id=\"T_59bab_row6_col2\" class=\"data row6 col2\" >0</td>\n",
              "      <td id=\"T_59bab_row6_col3\" class=\"data row6 col3\" >0</td>\n",
              "      <td id=\"T_59bab_row6_col4\" class=\"data row6 col4\" >0</td>\n",
              "      <td id=\"T_59bab_row6_col5\" class=\"data row6 col5\" >0</td>\n",
              "      <td id=\"T_59bab_row6_col6\" class=\"data row6 col6\" >0</td>\n",
              "      <td id=\"T_59bab_row6_col7\" class=\"data row6 col7\" >0</td>\n",
              "      <td id=\"T_59bab_row6_col8\" class=\"data row6 col8\" >0</td>\n",
              "      <td id=\"T_59bab_row6_col9\" class=\"data row6 col9\" >0</td>\n",
              "      <td id=\"T_59bab_row6_col10\" class=\"data row6 col10\" >249</td>\n",
              "      <td id=\"T_59bab_row6_col11\" class=\"data row6 col11\" >253</td>\n",
              "      <td id=\"T_59bab_row6_col12\" class=\"data row6 col12\" >245</td>\n",
              "      <td id=\"T_59bab_row6_col13\" class=\"data row6 col13\" >126</td>\n",
              "      <td id=\"T_59bab_row6_col14\" class=\"data row6 col14\" >0</td>\n",
              "      <td id=\"T_59bab_row6_col15\" class=\"data row6 col15\" >0</td>\n",
              "      <td id=\"T_59bab_row6_col16\" class=\"data row6 col16\" >0</td>\n",
              "      <td id=\"T_59bab_row6_col17\" class=\"data row6 col17\" >0</td>\n",
              "    </tr>\n",
              "    <tr>\n",
              "      <th id=\"T_59bab_level0_row7\" class=\"row_heading level0 row7\" >7</th>\n",
              "      <td id=\"T_59bab_row7_col0\" class=\"data row7 col0\" >0</td>\n",
              "      <td id=\"T_59bab_row7_col1\" class=\"data row7 col1\" >0</td>\n",
              "      <td id=\"T_59bab_row7_col2\" class=\"data row7 col2\" >0</td>\n",
              "      <td id=\"T_59bab_row7_col3\" class=\"data row7 col3\" >0</td>\n",
              "      <td id=\"T_59bab_row7_col4\" class=\"data row7 col4\" >0</td>\n",
              "      <td id=\"T_59bab_row7_col5\" class=\"data row7 col5\" >0</td>\n",
              "      <td id=\"T_59bab_row7_col6\" class=\"data row7 col6\" >0</td>\n",
              "      <td id=\"T_59bab_row7_col7\" class=\"data row7 col7\" >14</td>\n",
              "      <td id=\"T_59bab_row7_col8\" class=\"data row7 col8\" >101</td>\n",
              "      <td id=\"T_59bab_row7_col9\" class=\"data row7 col9\" >223</td>\n",
              "      <td id=\"T_59bab_row7_col10\" class=\"data row7 col10\" >253</td>\n",
              "      <td id=\"T_59bab_row7_col11\" class=\"data row7 col11\" >248</td>\n",
              "      <td id=\"T_59bab_row7_col12\" class=\"data row7 col12\" >124</td>\n",
              "      <td id=\"T_59bab_row7_col13\" class=\"data row7 col13\" >0</td>\n",
              "      <td id=\"T_59bab_row7_col14\" class=\"data row7 col14\" >0</td>\n",
              "      <td id=\"T_59bab_row7_col15\" class=\"data row7 col15\" >0</td>\n",
              "      <td id=\"T_59bab_row7_col16\" class=\"data row7 col16\" >0</td>\n",
              "      <td id=\"T_59bab_row7_col17\" class=\"data row7 col17\" >0</td>\n",
              "    </tr>\n",
              "    <tr>\n",
              "      <th id=\"T_59bab_level0_row8\" class=\"row_heading level0 row8\" >8</th>\n",
              "      <td id=\"T_59bab_row8_col0\" class=\"data row8 col0\" >0</td>\n",
              "      <td id=\"T_59bab_row8_col1\" class=\"data row8 col1\" >0</td>\n",
              "      <td id=\"T_59bab_row8_col2\" class=\"data row8 col2\" >0</td>\n",
              "      <td id=\"T_59bab_row8_col3\" class=\"data row8 col3\" >0</td>\n",
              "      <td id=\"T_59bab_row8_col4\" class=\"data row8 col4\" >0</td>\n",
              "      <td id=\"T_59bab_row8_col5\" class=\"data row8 col5\" >11</td>\n",
              "      <td id=\"T_59bab_row8_col6\" class=\"data row8 col6\" >166</td>\n",
              "      <td id=\"T_59bab_row8_col7\" class=\"data row8 col7\" >239</td>\n",
              "      <td id=\"T_59bab_row8_col8\" class=\"data row8 col8\" >253</td>\n",
              "      <td id=\"T_59bab_row8_col9\" class=\"data row8 col9\" >253</td>\n",
              "      <td id=\"T_59bab_row8_col10\" class=\"data row8 col10\" >253</td>\n",
              "      <td id=\"T_59bab_row8_col11\" class=\"data row8 col11\" >187</td>\n",
              "      <td id=\"T_59bab_row8_col12\" class=\"data row8 col12\" >30</td>\n",
              "      <td id=\"T_59bab_row8_col13\" class=\"data row8 col13\" >0</td>\n",
              "      <td id=\"T_59bab_row8_col14\" class=\"data row8 col14\" >0</td>\n",
              "      <td id=\"T_59bab_row8_col15\" class=\"data row8 col15\" >0</td>\n",
              "      <td id=\"T_59bab_row8_col16\" class=\"data row8 col16\" >0</td>\n",
              "      <td id=\"T_59bab_row8_col17\" class=\"data row8 col17\" >0</td>\n",
              "    </tr>\n",
              "    <tr>\n",
              "      <th id=\"T_59bab_level0_row9\" class=\"row_heading level0 row9\" >9</th>\n",
              "      <td id=\"T_59bab_row9_col0\" class=\"data row9 col0\" >0</td>\n",
              "      <td id=\"T_59bab_row9_col1\" class=\"data row9 col1\" >0</td>\n",
              "      <td id=\"T_59bab_row9_col2\" class=\"data row9 col2\" >0</td>\n",
              "      <td id=\"T_59bab_row9_col3\" class=\"data row9 col3\" >0</td>\n",
              "      <td id=\"T_59bab_row9_col4\" class=\"data row9 col4\" >0</td>\n",
              "      <td id=\"T_59bab_row9_col5\" class=\"data row9 col5\" >16</td>\n",
              "      <td id=\"T_59bab_row9_col6\" class=\"data row9 col6\" >248</td>\n",
              "      <td id=\"T_59bab_row9_col7\" class=\"data row9 col7\" >250</td>\n",
              "      <td id=\"T_59bab_row9_col8\" class=\"data row9 col8\" >253</td>\n",
              "      <td id=\"T_59bab_row9_col9\" class=\"data row9 col9\" >253</td>\n",
              "      <td id=\"T_59bab_row9_col10\" class=\"data row9 col10\" >253</td>\n",
              "      <td id=\"T_59bab_row9_col11\" class=\"data row9 col11\" >253</td>\n",
              "      <td id=\"T_59bab_row9_col12\" class=\"data row9 col12\" >232</td>\n",
              "      <td id=\"T_59bab_row9_col13\" class=\"data row9 col13\" >213</td>\n",
              "      <td id=\"T_59bab_row9_col14\" class=\"data row9 col14\" >111</td>\n",
              "      <td id=\"T_59bab_row9_col15\" class=\"data row9 col15\" >2</td>\n",
              "      <td id=\"T_59bab_row9_col16\" class=\"data row9 col16\" >0</td>\n",
              "      <td id=\"T_59bab_row9_col17\" class=\"data row9 col17\" >0</td>\n",
              "    </tr>\n",
              "    <tr>\n",
              "      <th id=\"T_59bab_level0_row10\" class=\"row_heading level0 row10\" >10</th>\n",
              "      <td id=\"T_59bab_row10_col0\" class=\"data row10 col0\" >0</td>\n",
              "      <td id=\"T_59bab_row10_col1\" class=\"data row10 col1\" >0</td>\n",
              "      <td id=\"T_59bab_row10_col2\" class=\"data row10 col2\" >0</td>\n",
              "      <td id=\"T_59bab_row10_col3\" class=\"data row10 col3\" >0</td>\n",
              "      <td id=\"T_59bab_row10_col4\" class=\"data row10 col4\" >0</td>\n",
              "      <td id=\"T_59bab_row10_col5\" class=\"data row10 col5\" >0</td>\n",
              "      <td id=\"T_59bab_row10_col6\" class=\"data row10 col6\" >0</td>\n",
              "      <td id=\"T_59bab_row10_col7\" class=\"data row10 col7\" >43</td>\n",
              "      <td id=\"T_59bab_row10_col8\" class=\"data row10 col8\" >98</td>\n",
              "      <td id=\"T_59bab_row10_col9\" class=\"data row10 col9\" >98</td>\n",
              "      <td id=\"T_59bab_row10_col10\" class=\"data row10 col10\" >208</td>\n",
              "      <td id=\"T_59bab_row10_col11\" class=\"data row10 col11\" >253</td>\n",
              "      <td id=\"T_59bab_row10_col12\" class=\"data row10 col12\" >253</td>\n",
              "      <td id=\"T_59bab_row10_col13\" class=\"data row10 col13\" >253</td>\n",
              "      <td id=\"T_59bab_row10_col14\" class=\"data row10 col14\" >253</td>\n",
              "      <td id=\"T_59bab_row10_col15\" class=\"data row10 col15\" >187</td>\n",
              "      <td id=\"T_59bab_row10_col16\" class=\"data row10 col16\" >22</td>\n",
              "      <td id=\"T_59bab_row10_col17\" class=\"data row10 col17\" >0</td>\n",
              "    </tr>\n",
              "  </tbody>\n",
              "</table>\n"
            ]
          },
          "metadata": {},
          "execution_count": 9
        }
      ]
    },
    {
      "cell_type": "markdown",
      "source": [
        "Create tensor images of the average pixel values of all images"
      ],
      "metadata": {
        "id": "s9LSeuPTQFku"
      }
    },
    {
      "cell_type": "code",
      "source": [
        "# Create a list of tensors for the 3 and 7 images\n",
        "three_tensors = [tensor(Image.open(o)) for o in threes]\n",
        "seven_tensors = [tensor(Image.open(o)) for o in sevens]\n",
        "len(three_tensors), len(seven_tensors)\n"
      ],
      "metadata": {
        "colab": {
          "base_uri": "https://localhost:8080/"
        },
        "id": "6wzVoeYPPd_p",
        "outputId": "77db2d02-b152-4456-cf5f-55ad6c1a1390"
      },
      "execution_count": 10,
      "outputs": [
        {
          "output_type": "execute_result",
          "data": {
            "text/plain": [
              "(6131, 6265)"
            ]
          },
          "metadata": {},
          "execution_count": 10
        }
      ]
    },
    {
      "cell_type": "code",
      "source": [
        "show_image(three_tensors[1])"
      ],
      "metadata": {
        "colab": {
          "base_uri": "https://localhost:8080/",
          "height": 102
        },
        "id": "EMk_XVtoQCXG",
        "outputId": "f32ea9ff-19bf-44c3-8307-94111dba6c58"
      },
      "execution_count": 11,
      "outputs": [
        {
          "output_type": "execute_result",
          "data": {
            "text/plain": [
              "<matplotlib.axes._subplots.AxesSubplot at 0x7ff7d9538a10>"
            ]
          },
          "metadata": {},
          "execution_count": 11
        },
        {
          "output_type": "display_data",
          "data": {
            "text/plain": [
              "<Figure size 72x72 with 1 Axes>"
            ],
            "image/png": "[encoded data removed]"
          },
          "metadata": {
            "needs_background": "light"
          }
        }
      ]
    },
    {
      "cell_type": "code",
      "source": [
        "# Stack all of the tensors to get an average value\n",
        "stacked_threes = torch.stack(three_tensors).float()/255\n",
        "stacked_sevens = torch.stack(seven_tensors).float()/255\n",
        "stacked_threes.shape"
      ],
      "metadata": {
        "colab": {
          "base_uri": "https://localhost:8080/"
        },
        "id": "_OGF-9opQe7v",
        "outputId": "55332e35-2cc2-400f-9354-2a1cd31cc54f"
      },
      "execution_count": 12,
      "outputs": [
        {
          "output_type": "execute_result",
          "data": {
            "text/plain": [
              "torch.Size([6131, 28, 28])"
            ]
          },
          "metadata": {},
          "execution_count": 12
        }
      ]
    },
    {
      "cell_type": "code",
      "source": [
        "mean7 = stacked_sevens.mean(0)\n",
        "show_image(mean7)"
      ],
      "metadata": {
        "colab": {
          "base_uri": "https://localhost:8080/",
          "height": 102
        },
        "id": "PahIp2u-R3ZQ",
        "outputId": "826171c1-04ef-4995-93b4-5579b78426f5"
      },
      "execution_count": 13,
      "outputs": [
        {
          "output_type": "execute_result",
          "data": {
            "text/plain": [
              "<matplotlib.axes._subplots.AxesSubplot at 0x7ff7d8f4ac50>"
            ]
          },
          "metadata": {},
          "execution_count": 13
        },
        {
          "output_type": "display_data",
          "data": {
            "text/plain": [
              "<Figure size 72x72 with 1 Axes>"
            ],
            "image/png": "[encoded data removed]"
          },
          "metadata": {
            "needs_background": "light"
          }
        }
      ]
    },
    {
      "cell_type": "code",
      "source": [
        "mean3 = stacked_threes.mean(0)\n",
        "show_image(mean3)"
      ],
      "metadata": {
        "colab": {
          "base_uri": "https://localhost:8080/",
          "height": 102
        },
        "id": "OCfnGG0ARpbf",
        "outputId": "c9772b6c-9578-4907-9e24-d3df88458337"
      },
      "execution_count": 14,
      "outputs": [
        {
          "output_type": "execute_result",
          "data": {
            "text/plain": [
              "<matplotlib.axes._subplots.AxesSubplot at 0x7ff7d8edb210>"
            ]
          },
          "metadata": {},
          "execution_count": 14
        },
        {
          "output_type": "display_data",
          "data": {
            "text/plain": [
              "<Figure size 72x72 with 1 Axes>"
            ],
            "image/png": "[encoded data removed]"
          },
          "metadata": {
            "needs_background": "light"
          }
        }
      ]
    },
    {
      "cell_type": "code",
      "source": [
        "# Perform a loss function to determine if 3 is closer to the ideal 7 or 3\n",
        "a_3 = stacked_threes[1]\n",
        "F.l1_loss(a_3.float(),mean7), F.mse_loss(a_3,mean7).sqrt()"
      ],
      "metadata": {
        "colab": {
          "base_uri": "https://localhost:8080/"
        },
        "id": "YQswlAKJTQdS",
        "outputId": "73553756-d5d3-4054-89b8-95d16ff8b55a"
      },
      "execution_count": 15,
      "outputs": [
        {
          "output_type": "execute_result",
          "data": {
            "text/plain": [
              "(tensor(0.1586), tensor(0.3021))"
            ]
          },
          "metadata": {},
          "execution_count": 15
        }
      ]
    },
    {
      "cell_type": "code",
      "source": [
        "# Import and stack the valid data\n",
        "valid_3_tens = torch.stack([tensor(Image.open(o)) for o in (path/'valid'/'3').ls()])\n",
        "valid_3_tens = valid_3_tens.float()/255\n",
        "valid_7_tens = torch.stack([tensor(Image.open(o)) for o in (path/'valid'/'7').ls()])\n",
        "valid_7_tens = valid_7_tens.float()/255\n",
        "valid_3_tens.shape,valid_7_tens.shape"
      ],
      "metadata": {
        "colab": {
          "base_uri": "https://localhost:8080/"
        },
        "id": "E4ya6VCqafhY",
        "outputId": "3840b54a-b945-4a71-f642-54c758b27aa4"
      },
      "execution_count": 16,
      "outputs": [
        {
          "output_type": "execute_result",
          "data": {
            "text/plain": [
              "(torch.Size([1010, 28, 28]), torch.Size([1028, 28, 28]))"
            ]
          },
          "metadata": {},
          "execution_count": 16
        }
      ]
    },
    {
      "cell_type": "code",
      "source": [
        "# Function to see how inputs are from one another\n",
        "def mnist_distance(a,b): return (a-b).abs().mean((-1,-2))\n",
        "mnist_distance(a_3, mean3)"
      ],
      "metadata": {
        "colab": {
          "base_uri": "https://localhost:8080/"
        },
        "id": "XSImr7nlbg7T",
        "outputId": "b5e79bdc-c5a9-4f63-d356-bda1f35df280"
      },
      "execution_count": 17,
      "outputs": [
        {
          "output_type": "execute_result",
          "data": {
            "text/plain": [
              "tensor(0.1114)"
            ]
          },
          "metadata": {},
          "execution_count": 17
        }
      ]
    },
    {
      "cell_type": "code",
      "source": [
        "valid_3_dist = mnist_distance(valid_3_tens, mean3)\n",
        "valid_3_dist, valid_3_dist.shape"
      ],
      "metadata": {
        "colab": {
          "base_uri": "https://localhost:8080/"
        },
        "id": "Auo1xAD-b8hV",
        "outputId": "dc2651ec-9f9d-4594-d1cf-9e68f7be700b"
      },
      "execution_count": 18,
      "outputs": [
        {
          "output_type": "execute_result",
          "data": {
            "text/plain": [
              "(tensor([0.1087, 0.1336, 0.1186,  ..., 0.1315, 0.1134, 0.1142]),\n",
              " torch.Size([1010]))"
            ]
          },
          "metadata": {},
          "execution_count": 18
        }
      ]
    },
    {
      "cell_type": "markdown",
      "source": [
        "Test if a function is a 3"
      ],
      "metadata": {
        "id": "pcvMaCrpIwWJ"
      }
    },
    {
      "cell_type": "code",
      "source": [
        "def is_3(x): return mnist_distance(x, mean3) < mnist_distance(x, mean7)"
      ],
      "metadata": {
        "id": "isI1NXkVKVc3"
      },
      "execution_count": 19,
      "outputs": []
    },
    {
      "cell_type": "code",
      "source": [
        "# Test on a single 3 image\n",
        "is_3(a_3), is_3(a_3).float()"
      ],
      "metadata": {
        "colab": {
          "base_uri": "https://localhost:8080/"
        },
        "id": "b-SRNuWmKgMa",
        "outputId": "53ee28ac-2931-42a4-95b1-011c2112aa8f"
      },
      "execution_count": 20,
      "outputs": [
        {
          "output_type": "execute_result",
          "data": {
            "text/plain": [
              "(tensor(True), tensor(1.))"
            ]
          },
          "metadata": {},
          "execution_count": 20
        }
      ]
    },
    {
      "cell_type": "code",
      "source": [
        "# Perform 3 check on all valid 3s\n",
        "is_3(valid_3_tens)"
      ],
      "metadata": {
        "colab": {
          "base_uri": "https://localhost:8080/"
        },
        "id": "zgBP3qjxKjD_",
        "outputId": "5dc78b5e-eb91-4cd3-834c-b7f3c086750a"
      },
      "execution_count": 21,
      "outputs": [
        {
          "output_type": "execute_result",
          "data": {
            "text/plain": [
              "tensor([True, True, True,  ..., True, True, True])"
            ]
          },
          "metadata": {},
          "execution_count": 21
        }
      ]
    },
    {
      "cell_type": "code",
      "source": [
        "# Check accuracy on valid 3\n",
        "accuracy_3s = is_3(valid_3_tens).float().mean()\n",
        "# Check accuraacy on valid 7\n",
        "accuracy_7s = (1 - is_3(valid_7_tens).float().mean())\n",
        "accuracy_3s, accuracy_7s, (accuracy_3s+accuracy_7s)/2"
      ],
      "metadata": {
        "colab": {
          "base_uri": "https://localhost:8080/"
        },
        "id": "VWMDgZ5fKy1o",
        "outputId": "884af686-0711-42b5-f05c-fa384e4f070e"
      },
      "execution_count": 22,
      "outputs": [
        {
          "output_type": "execute_result",
          "data": {
            "text/plain": [
              "(tensor(0.9168), tensor(0.9854), tensor(0.9511))"
            ]
          },
          "metadata": {},
          "execution_count": 22
        }
      ]
    },
    {
      "cell_type": "code",
      "source": [
        "def f(x): return x**2\n",
        "plot_function(f, 'x', 'x**2')"
      ],
      "metadata": {
        "colab": {
          "base_uri": "https://localhost:8080/",
          "height": 285
        },
        "id": "3Xeih_1pXj9V",
        "outputId": "10f840e8-0486-4b53-82ed-406d52699885"
      },
      "execution_count": 28,
      "outputs": [
        {
          "output_type": "display_data",
          "data": {
            "text/plain": [
              "<Figure size 432x288 with 1 Axes>"
            ],
            "image/png": "[encoded data removed]"
          },
          "metadata": {
            "needs_background": "light"
          }
        }
      ]
    },
    {
      "cell_type": "code",
      "source": [
        "xt = tensor(3.).requires_grad_()"
      ],
      "metadata": {
        "id": "j89s4x2wTybg"
      },
      "execution_count": 40,
      "outputs": []
    },
    {
      "cell_type": "code",
      "source": [
        "yt = f(xt)\n",
        "yt"
      ],
      "metadata": {
        "colab": {
          "base_uri": "https://localhost:8080/"
        },
        "id": "L4uR7z7eXdfV",
        "outputId": "0a56daf7-b1ab-4851-942b-048499b2d637"
      },
      "execution_count": 41,
      "outputs": [
        {
          "output_type": "execute_result",
          "data": {
            "text/plain": [
              "tensor(9., grad_fn=<PowBackward0>)"
            ]
          },
          "metadata": {},
          "execution_count": 41
        }
      ]
    },
    {
      "cell_type": "code",
      "source": [
        "yt.backward()"
      ],
      "metadata": {
        "id": "WB2-dk0oX2Bt"
      },
      "execution_count": 42,
      "outputs": []
    },
    {
      "cell_type": "code",
      "source": [
        "xt.grad"
      ],
      "metadata": {
        "colab": {
          "base_uri": "https://localhost:8080/"
        },
        "id": "5ICp_mnBYHSq",
        "outputId": "a19f5031-6102-4a84-b825-34c17900ec56"
      },
      "execution_count": 44,
      "outputs": [
        {
          "output_type": "execute_result",
          "data": {
            "text/plain": [
              "tensor(6.)"
            ]
          },
          "metadata": {},
          "execution_count": 44
        }
      ]
    },
    {
      "cell_type": "code",
      "source": [
        "xt = tensor([3., 4., 10.]).requires_grad_()\n",
        "xt"
      ],
      "metadata": {
        "colab": {
          "base_uri": "https://localhost:8080/"
        },
        "id": "YvzNIF43Zz2S",
        "outputId": "2df6645e-4d75-45e0-d972-492786c8b1eb"
      },
      "execution_count": 52,
      "outputs": [
        {
          "output_type": "execute_result",
          "data": {
            "text/plain": [
              "tensor([ 3.,  4., 10.], requires_grad=True)"
            ]
          },
          "metadata": {},
          "execution_count": 52
        }
      ]
    },
    {
      "cell_type": "code",
      "source": [
        "def f(x): return (x**2).sum()\n",
        "yt = f(xt)\n",
        "yt"
      ],
      "metadata": {
        "colab": {
          "base_uri": "https://localhost:8080/"
        },
        "id": "1HWkCXuiZ66j",
        "outputId": "a323a647-2488-494d-d7e0-f58d578e9989"
      },
      "execution_count": 53,
      "outputs": [
        {
          "output_type": "execute_result",
          "data": {
            "text/plain": [
              "tensor(125., grad_fn=<SumBackward0>)"
            ]
          },
          "metadata": {},
          "execution_count": 53
        }
      ]
    },
    {
      "cell_type": "code",
      "source": [
        "yt.backward()\n",
        "xt.grad"
      ],
      "metadata": {
        "colab": {
          "base_uri": "https://localhost:8080/"
        },
        "id": "vxpsNZrQZ9fj",
        "outputId": "22d2639e-6a80-454d-929f-cf80dc9debee"
      },
      "execution_count": 54,
      "outputs": [
        {
          "output_type": "execute_result",
          "data": {
            "text/plain": [
              "tensor([ 6.,  8., 20.])"
            ]
          },
          "metadata": {},
          "execution_count": 54
        }
      ]
    }
  ]
}