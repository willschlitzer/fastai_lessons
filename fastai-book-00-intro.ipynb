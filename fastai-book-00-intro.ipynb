{
 "cells": [
  {
   "cell_type": "raw",
   "id": "f85d8108",
   "metadata": {
    "_cell_guid": "b1076dfc-b9ad-4769-8c92-a6c4dae69d19",
    "_uuid": "8f2839f25d086af736a60e9eeb907d3b93b6e0e5",
    "papermill": {
     "duration": 0.002539,
     "end_time": "2022-08-06T14:28:58.571516",
     "exception": false,
     "start_time": "2022-08-06T14:28:58.568977",
     "status": "completed"
    },
    "tags": []
   },
   "source": [
    "!pip install fastai"
   ]
  },
  {
   "cell_type": "code",
   "execution_count": 1,
   "id": "ee45666d",
   "metadata": {
    "execution": {
     "iopub.execute_input": "2022-08-06T14:28:58.576548Z",
     "iopub.status.busy": "2022-08-06T14:28:58.576014Z",
     "iopub.status.idle": "2022-08-06T14:29:01.367751Z",
     "shell.execute_reply": "2022-08-06T14:29:01.366728Z"
    },
    "papermill": {
     "duration": 2.797072,
     "end_time": "2022-08-06T14:29:01.370257",
     "exception": false,
     "start_time": "2022-08-06T14:28:58.573185",
     "status": "completed"
    },
    "tags": []
   },
   "outputs": [],
   "source": [
    "from fastai.vision.all import *"
   ]
  },
  {
   "cell_type": "code",
   "execution_count": 2,
   "id": "eea79b97",
   "metadata": {
    "execution": {
     "iopub.execute_input": "2022-08-06T14:29:01.374970Z",
     "iopub.status.busy": "2022-08-06T14:29:01.374473Z",
     "iopub.status.idle": "2022-08-06T14:29:21.005918Z",
     "shell.execute_reply": "2022-08-06T14:29:21.004681Z"
    },
    "papermill": {
     "duration": 19.637189,
     "end_time": "2022-08-06T14:29:21.009289",
     "exception": false,
     "start_time": "2022-08-06T14:29:01.372100",
     "status": "completed"
    },
    "tags": []
   },
   "outputs": [
    {
     "data": {
      "text/html": [
       "\n",
       "<style>\n",
       "    /* Turns off some styling */\n",
       "    progress {\n",
       "        /* gets rid of default border in Firefox and Opera. */\n",
       "        border: none;\n",
       "        /* Needs to be in here for Safari polyfill so background images work as expected. */\n",
       "        background-size: auto;\n",
       "    }\n",
       "    .progress-bar-interrupted, .progress-bar-interrupted::-webkit-progress-bar {\n",
       "        background: #F44336;\n",
       "    }\n",
       "</style>\n"
      ],
      "text/plain": [
       "<IPython.core.display.HTML object>"
      ]
     },
     "metadata": {},
     "output_type": "display_data"
    },
    {
     "data": {
      "text/html": [
       "\n",
       "    <div>\n",
       "      <progress value='811712512' class='' max='811706944' style='width:300px; height:20px; vertical-align: middle;'></progress>\n",
       "      100.00% [811712512/811706944 00:08<00:00]\n",
       "    </div>\n",
       "    "
      ],
      "text/plain": [
       "<IPython.core.display.HTML object>"
      ]
     },
     "metadata": {},
     "output_type": "display_data"
    }
   ],
   "source": [
    "path = untar_data(URLs.PETS)/'images'"
   ]
  }
 ],
 "metadata": {
  "kernelspec": {
   "display_name": "Python 3",
   "language": "python",
   "name": "python3"
  },
  "language_info": {
   "codemirror_mode": {
    "name": "ipython",
    "version": 3
   },
   "file_extension": ".py",
   "mimetype": "text/x-python",
   "name": "python",
   "nbconvert_exporter": "python",
   "pygments_lexer": "ipython3",
   "version": "3.7.12"
  },
  "papermill": {
   "default_parameters": {},
   "duration": 32.174617,
   "end_time": "2022-08-06T14:29:21.942379",
   "environment_variables": {},
   "exception": null,
   "input_path": "__notebook__.ipynb",
   "output_path": "__notebook__.ipynb",
   "parameters": {},
   "start_time": "2022-08-06T14:28:49.767762",
   "version": "2.3.4"
  }
 },
 "nbformat": 4,
 "nbformat_minor": 5
}
